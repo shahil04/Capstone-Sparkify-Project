{
 "cells": [
  {
   "cell_type": "markdown",
   "metadata": {},
   "source": [
    "# Sparkify Project Workspace\n",
    "This workspace contains a tiny subset (128MB) of the full dataset available (12GB). Feel free to use this workspace to build your project, or to explore a smaller subset with Spark before deploying your cluster on the cloud. Instructions for setting up your Spark cluster is included in the last lesson of the Extracurricular Spark Course content.\n",
    "\n",
    "You can follow the steps below to guide your data analysis and model building portion of this project."
   ]
  },
  {
   "cell_type": "code",
   "execution_count": 1,
   "metadata": {},
   "outputs": [],
   "source": [
    "# import libraries\n",
    "from pyspark.sql import SparkSession\n",
    "from pyspark.sql.functions import avg, col, concat, desc, explode, lit, min, max, split, udf, isnull\n",
    "from pyspark.sql.types import IntegerType,FloatType\n",
    "# ML imports\n",
    "from pyspark.ml import Pipeline\n",
    "from pyspark.ml.classification import LogisticRegression, RandomForestClassifier, GBTClassifier\n",
    "from pyspark.ml.classification import DecisionTreeClassifier, NaiveBayes\n",
    "from pyspark.ml.evaluation import MulticlassClassificationEvaluator\n",
    "from pyspark.ml.feature import CountVectorizer, IDF, Normalizer, PCA, RegexTokenizer, StandardScaler\n",
    "from pyspark.ml.feature import StopWordsRemover, StringIndexer, VectorAssembler\n",
    "from pyspark.ml.regression import LinearRegression\n",
    "from pyspark.ml.tuning import CrossValidator, ParamGridBuilder\n",
    "\n",
    "# TO load saved models \n",
    "from pyspark.ml.tuning import CrossValidatorModel as mlm\n",
    "\n",
    "import numpy as np\n",
    "import re\n",
    "import datetime\n",
    "import matplotlib.pyplot as plt\n",
    "import pandas as pd\n",
    "import seaborn as sns"
   ]
  },
  {
   "cell_type": "code",
   "execution_count": 3,
   "metadata": {},
   "outputs": [],
   "source": [
    "# create a Spark session\n",
    "spark=SparkSession \\\n",
    ".builder \\\n",
    ".appName(\"Sparkify\") \\\n",
    ".getOrCreate()"
   ]
  },
  {
   "cell_type": "markdown",
   "metadata": {},
   "source": [
    "# Load and Clean Dataset\n",
    "In this workspace, the mini-dataset file is `mini_sparkify_event_data.json`. Load and clean the dataset, checking for invalid or missing data - for example, records without userids or sessionids. "
   ]
  },
  {
   "cell_type": "code",
   "execution_count": 4,
   "metadata": {},
   "outputs": [
    {
     "data": {
      "text/plain": [
       "DataFrame[artist: string, auth: string, firstName: string, gender: string, itemInSession: bigint, lastName: string, length: double, level: string, location: string, method: string, page: string, registration: bigint, sessionId: bigint, song: string, status: bigint, ts: bigint, userAgent: string, userId: string]"
      ]
     },
     "execution_count": 4,
     "metadata": {},
     "output_type": "execute_result"
    }
   ],
   "source": [
    "data=\"mini_sparkify_event_data.json\"\n",
    "df=spark.read.json(data)\n",
    "df.persist()"
   ]
  },
  {
   "cell_type": "code",
   "execution_count": 5,
   "metadata": {},
   "outputs": [
    {
     "name": "stdout",
     "output_type": "stream",
     "text": [
      "+-------+------------------+----------+---------+------+------------------+--------+-----------------+------+-----------------+------+-------+--------------------+-----------------+--------------------+------------------+--------------------+--------------------+-----------------+\n",
      "|summary|            artist|      auth|firstName|gender|     itemInSession|lastName|           length| level|         location|method|   page|        registration|        sessionId|                song|            status|                  ts|           userAgent|           userId|\n",
      "+-------+------------------+----------+---------+------+------------------+--------+-----------------+------+-----------------+------+-------+--------------------+-----------------+--------------------+------------------+--------------------+--------------------+-----------------+\n",
      "|  count|            228108|    286500|   278154|278154|            286500|  278154|           228108|286500|           278154|286500| 286500|              278154|           286500|              228108|            286500|              286500|              278154|           286500|\n",
      "|   mean| 551.0852017937219|      null|     null|  null|114.41421291448516|    null|249.1171819778458|  null|             null|  null|   null|1.535358834084427...|1041.526554973822|            Infinity|210.05459685863875|1.540956889810483...|                null|59682.02278593872|\n",
      "| stddev|1217.7693079161374|      null|     null|  null|129.76726201140994|    null|99.23517921058361|  null|             null|  null|   null| 3.291321616327586E9|726.7762634630741|                 NaN| 31.50507848842214|1.5075439608226302E9|                null|109091.9499991047|\n",
      "|    min|               !!!| Cancelled| Adelaida|     F|                 0|   Adams|          0.78322|  free|       Albany, OR|   GET|  About|       1521380675000|                1|\u001c",
      "ÃÂg ÃÂtti Gr...|               200|       1538352117000|\"Mozilla/5.0 (Mac...|                 |\n",
      "|    max| ÃÂlafur Arnalds|Logged Out|   Zyonna|     M|              1321|  Wright|       3024.66567|  paid|Winston-Salem, NC|   PUT|Upgrade|       1543247354000|             2474|ÃÂau hafa slopp...|               404|       1543799476000|Mozilla/5.0 (comp...|               99|\n",
      "+-------+------------------+----------+---------+------+------------------+--------+-----------------+------+-----------------+------+-------+--------------------+-----------------+--------------------+------------------+--------------------+--------------------+-----------------+\n",
      "\n"
     ]
    }
   ],
   "source": [
    "df.describe().show()"
   ]
  },
  {
   "cell_type": "code",
   "execution_count": 6,
   "metadata": {},
   "outputs": [
    {
     "data": {
      "text/plain": [
       "286500"
      ]
     },
     "execution_count": 6,
     "metadata": {},
     "output_type": "execute_result"
    }
   ],
   "source": [
    "df.count()"
   ]
  },
  {
   "cell_type": "code",
   "execution_count": 7,
   "metadata": {},
   "outputs": [
    {
     "data": {
      "text/plain": [
       "286500"
      ]
     },
     "execution_count": 7,
     "metadata": {},
     "output_type": "execute_result"
    }
   ],
   "source": [
    "df = df.dropna(how='any',subset=['userId','sessionId'])\n",
    "df.count()"
   ]
  },
  {
   "cell_type": "code",
   "execution_count": 8,
   "metadata": {},
   "outputs": [
    {
     "data": {
      "text/plain": [
       "278154"
      ]
     },
     "execution_count": 8,
     "metadata": {},
     "output_type": "execute_result"
    }
   ],
   "source": [
    "df = df.filter(df.userId!=\"\")\n",
    "df.count()"
   ]
  },
  {
   "cell_type": "markdown",
   "metadata": {},
   "source": [
    "# Exploratory Data Analysis\n",
    "\n",
    "When you're working with the full dataset, perform EDA by loading a small subset of the data and doing basic manipulations within Spark. In this workspace, you are already provided a small subset of data you can explore.\n",
    "\n",
    "### Define Churn\n",
    "\n",
    "Once you've done some preliminary analysis, create a column Churn to use as the label for your model. I suggest using the Cancellation Confirmation events to define your churn, which happen for both paid and free users. As a bonus task, you can also look into the Downgrade events.\n",
    "### Explore Data\n",
    "\n",
    "Once you've defined churn, perform some exploratory data analysis to observe the behavior for users who stayed vs users who churned. You can start by exploring aggregates on these two groups of users, observing how much of a specific action they experienced per a certain time unit or number of songs played.\n",
    "\n",
    "See different pages\n"
   ]
  },
  {
   "cell_type": "code",
   "execution_count": 9,
   "metadata": {},
   "outputs": [
    {
     "name": "stdout",
     "output_type": "stream",
     "text": [
      "root\n",
      " |-- artist: string (nullable = true)\n",
      " |-- auth: string (nullable = true)\n",
      " |-- firstName: string (nullable = true)\n",
      " |-- gender: string (nullable = true)\n",
      " |-- itemInSession: long (nullable = true)\n",
      " |-- lastName: string (nullable = true)\n",
      " |-- length: double (nullable = true)\n",
      " |-- level: string (nullable = true)\n",
      " |-- location: string (nullable = true)\n",
      " |-- method: string (nullable = true)\n",
      " |-- page: string (nullable = true)\n",
      " |-- registration: long (nullable = true)\n",
      " |-- sessionId: long (nullable = true)\n",
      " |-- song: string (nullable = true)\n",
      " |-- status: long (nullable = true)\n",
      " |-- ts: long (nullable = true)\n",
      " |-- userAgent: string (nullable = true)\n",
      " |-- userId: string (nullable = true)\n",
      "\n"
     ]
    }
   ],
   "source": [
    "df.printSchema()"
   ]
  },
  {
   "cell_type": "code",
   "execution_count": 10,
   "metadata": {},
   "outputs": [
    {
     "name": "stdout",
     "output_type": "stream",
     "text": [
      "+--------------------+\n",
      "|                page|\n",
      "+--------------------+\n",
      "|              Cancel|\n",
      "|    Submit Downgrade|\n",
      "|         Thumbs Down|\n",
      "|                Home|\n",
      "|           Downgrade|\n",
      "|         Roll Advert|\n",
      "|              Logout|\n",
      "|       Save Settings|\n",
      "|Cancellation Conf...|\n",
      "|               About|\n",
      "|            Settings|\n",
      "|     Add to Playlist|\n",
      "|          Add Friend|\n",
      "|            NextSong|\n",
      "|           Thumbs Up|\n",
      "|                Help|\n",
      "|             Upgrade|\n",
      "|               Error|\n",
      "|      Submit Upgrade|\n",
      "+--------------------+\n",
      "\n"
     ]
    }
   ],
   "source": [
    "df.select('page').dropDuplicates().show()"
   ]
  },
  {
   "cell_type": "markdown",
   "metadata": {},
   "source": [
    "Let's see one user who canceled the premium"
   ]
  },
  {
   "cell_type": "code",
   "execution_count": 11,
   "metadata": {},
   "outputs": [
    {
     "name": "stdout",
     "output_type": "stream",
     "text": [
      "+------+\n",
      "|userId|\n",
      "+------+\n",
      "|   125|\n",
      "|    51|\n",
      "|    54|\n",
      "|100014|\n",
      "|   101|\n",
      "|    29|\n",
      "|100021|\n",
      "|    87|\n",
      "|    73|\n",
      "|     3|\n",
      "+------+\n",
      "only showing top 10 rows\n",
      "\n"
     ]
    }
   ],
   "source": [
    "df.filter(df.page=='Cancellation Confirmation').select('userId').dropDuplicates().show(10)"
   ]
  },
  {
   "cell_type": "code",
   "execution_count": 12,
   "metadata": {},
   "outputs": [],
   "source": [
    "#add time to see the time clear\n",
    "get_time = udf(lambda x: datetime.datetime.fromtimestamp(x / 1000.0).strftime(\"%Y-%m-%d %H:%M:%S\"))\n",
    "df = df.withColumn(\"time\", get_time(df.ts))"
   ]
  },
  {
   "cell_type": "code",
   "execution_count": 13,
   "metadata": {},
   "outputs": [
    {
     "name": "stdout",
     "output_type": "stream",
     "text": [
      "+------+---------------+-------------------+-----+--------------------+---------+\n",
      "|userId|           page|               time|level|                song|sessionId|\n",
      "+------+---------------+-------------------+-----+--------------------+---------+\n",
      "|100014|       NextSong|2018-10-10 13:12:16| paid|Welcome To The Wo...|       37|\n",
      "|100014|       NextSong|2018-10-10 13:15:51| paid|              Odessa|       37|\n",
      "|100014|       NextSong|2018-10-10 13:17:56| paid|             Amapola|       37|\n",
      "|100014|       NextSong|2018-10-10 13:21:38| paid|Exogenesis: Symph...|       37|\n",
      "|100014|           Help|2018-10-10 13:21:45| paid|                null|       37|\n",
      "|100014|       NextSong|2018-10-10 13:25:56| paid|       Sehr kosmisch|       37|\n",
      "|100014|       NextSong|2018-10-10 13:36:51| paid|     Moghram Ya Lail|       37|\n",
      "|100014|       NextSong|2018-10-10 13:41:54| paid|   AtrÃÂ©vete te te|       37|\n",
      "|100014|       NextSong|2018-10-10 13:45:53| paid|             Forever|       37|\n",
      "|100014|       NextSong|2018-10-10 13:51:50| paid|       My Automobile|       37|\n",
      "|100014|       NextSong|2018-10-10 13:56:28| paid|Fool For Your Loving|       37|\n",
      "|100014|       NextSong|2018-10-10 14:00:38| paid|        Rocket Queen|       37|\n",
      "|100014|       NextSong|2018-10-10 14:09:05| paid|            Run Free|       37|\n",
      "|100014|       NextSong|2018-10-10 14:15:25| paid|                Dile|       37|\n",
      "|100014|       NextSong|2018-10-10 14:18:49| paid|Annie (Album Vers...|       37|\n",
      "|100014|       NextSong|2018-10-10 14:22:14| paid|          Sexy Can I|       37|\n",
      "|100014|       NextSong|2018-10-10 14:25:41| paid|    Bring Me To Life|       37|\n",
      "|100014|      Thumbs Up|2018-10-10 14:25:42| paid|                null|       37|\n",
      "|100014|       NextSong|2018-10-10 14:29:38| paid|Stop Coming To My...|       37|\n",
      "|100014|       NextSong|2018-10-10 14:34:31| paid|     Mechanical Love|       37|\n",
      "|100014|       NextSong|2018-10-10 14:38:08| paid|           Fireworks|       37|\n",
      "|100014|       NextSong|2018-10-10 14:44:58| paid|Lord I Guess I'll...|       37|\n",
      "|100014|       NextSong|2018-10-10 14:49:49| paid|          Found Home|       37|\n",
      "|100014|       NextSong|2018-10-10 14:52:13| paid|      Revival Chance|       37|\n",
      "|100014|       NextSong|2018-10-10 14:57:58| paid|        Buffalo Bill|       37|\n",
      "|100014|       NextSong|2018-10-10 15:01:54| paid|        Chump Change|       37|\n",
      "|100014|       NextSong|2018-10-10 15:06:12| paid|Supermassive Blac...|       37|\n",
      "|100014|       NextSong|2018-10-10 15:09:41| paid|               Stomp|       37|\n",
      "|100014|       NextSong|2018-10-10 15:14:25| paid|     Three More Days|       37|\n",
      "|100014|       NextSong|2018-10-10 15:18:01| paid|     I Kissed A Girl|       37|\n",
      "|100014|       NextSong|2018-10-10 15:21:00| paid|               Pojdi|       37|\n",
      "|100014|       NextSong|2018-10-10 15:24:05| paid|Year of the Sucke...|       37|\n",
      "|100014|       NextSong|2018-10-10 15:29:09| paid|           Braziluba|       37|\n",
      "|100014|       NextSong|2018-10-10 15:38:59| paid|                Undo|       37|\n",
      "|100014|       NextSong|2018-10-10 15:44:47| paid|      I Couldn't Say|       37|\n",
      "|100014|       NextSong|2018-10-10 15:50:31| paid|      In The Flowers|       37|\n",
      "|100014|       NextSong|2018-10-10 15:55:53| paid|      Psychotic Girl|       37|\n",
      "|100014|       NextSong|2018-10-10 16:00:03| paid|                Hurt|       37|\n",
      "|100014|       NextSong|2018-10-10 16:06:17| paid|   Somethin' Special|       37|\n",
      "|100014|       NextSong|2018-10-10 16:09:21| paid|        Highway Song|       37|\n",
      "|100014|       NextSong|2018-10-10 16:19:53| paid|              Sothis|       37|\n",
      "|100014|Add to Playlist|2018-10-10 16:20:01| paid|                null|       37|\n",
      "|100014|       NextSong|2018-10-10 16:23:19| paid|                Luka|       37|\n",
      "|100014|       NextSong|2018-10-10 16:27:10| paid|Call Me When You ...|       37|\n",
      "|100014|       NextSong|2018-10-10 16:32:11| paid|          Loch Raven|       37|\n",
      "|100014|       NextSong|2018-10-10 16:37:10| paid|Hypnotized (featu...|       37|\n",
      "|100014|    Thumbs Down|2018-10-10 16:37:11| paid|                null|       37|\n",
      "|100014|       NextSong|2018-10-10 16:40:19| paid|      You're The One|       37|\n",
      "|100014|       Settings|2018-10-10 16:44:18| paid|                null|       37|\n",
      "|100014|       NextSong|2018-10-10 16:44:18| paid|Back Against The ...|       37|\n",
      "|100014|       NextSong|2018-10-10 16:48:06| paid|You Only Live Twi...|       37|\n",
      "|100014|       NextSong|2018-10-10 16:51:02| paid|    Acetate Prophets|       37|\n",
      "|100014|       NextSong|2018-10-10 16:57:33| paid|              A Wish|       37|\n",
      "|100014|       NextSong|2018-10-10 17:00:26| paid|           Bolo Hari|       37|\n",
      "|100014|       NextSong|2018-10-10 17:04:32| paid|             U Smile|       37|\n",
      "|100014|       NextSong|2018-10-10 17:07:48| paid|         God Help Me|       37|\n",
      "|100014|       NextSong|2018-10-10 17:10:58| paid|Children Of The L...|       37|\n",
      "|100014|       NextSong|2018-10-12 05:13:17| paid|           Drain You|       93|\n",
      "|100014|       NextSong|2018-10-12 05:16:51| paid|      You're The One|       93|\n",
      "|100014|       NextSong|2018-10-12 05:20:50| paid|           Bass Zone|       93|\n",
      "|100014|       NextSong|2018-10-12 05:25:17| paid|MIC (Speak Life A...|       93|\n",
      "|100014|       NextSong|2018-10-12 05:28:51| paid|        Cookie Raver|       93|\n",
      "|100014|       NextSong|2018-10-12 05:34:16| paid| Sleep In The Garden|       93|\n",
      "|100014|       NextSong|2018-10-12 05:35:59| paid|Con La Mano Levan...|       93|\n",
      "|100014|       NextSong|2018-10-12 05:39:21| paid|          Me Acuerdo|       93|\n",
      "|100014|       NextSong|2018-10-12 05:45:12| paid|Watching The Dete...|       93|\n",
      "|100014|       NextSong|2018-10-12 05:48:58| paid|       ReprÃÂ©sente|       93|\n",
      "|100014|       NextSong|2018-10-12 05:53:10| paid|I Wanna Be Down (...|       93|\n",
      "|100014|       NextSong|2018-10-12 05:58:01| paid|        Breathin Out|       93|\n",
      "|100014|      Thumbs Up|2018-10-12 05:58:02| paid|                null|       93|\n",
      "|100014|       NextSong|2018-10-12 06:00:58| paid|    One Step Too Far|       93|\n",
      "|100014|       NextSong|2018-10-12 06:04:23| paid|               Slave|       93|\n",
      "|100014|       NextSong|2018-10-12 06:07:09| paid|   Un Amor Diferente|       93|\n",
      "|100014|       NextSong|2018-10-12 06:10:34| paid|      Jump Then Fall|       93|\n",
      "|100014|       NextSong|2018-10-12 06:14:31| paid|  Beautiful Stranger|       93|\n",
      "|100014|       NextSong|2018-10-12 06:18:51| paid|    Enter The Dragon|       93|\n",
      "|100014|       NextSong|2018-10-12 06:25:00| paid|             Save Me|       93|\n",
      "|100014|     Add Friend|2018-10-12 06:25:01| paid|                null|       93|\n",
      "|100014|       NextSong|2018-10-12 06:28:25| paid|        Simple As...|       93|\n",
      "|100014|       NextSong|2018-10-12 06:30:56| paid|Accidents and com...|       93|\n",
      "|100014|       NextSong|2018-10-12 06:35:35| paid|           Pervigilo|       93|\n",
      "|100014|       NextSong|2018-10-12 06:41:08| paid|      Mary's New Car|       93|\n",
      "|100014|       NextSong|2018-10-12 06:44:51| paid|     My Friend Dario|       93|\n",
      "|100014|       NextSong|2018-10-12 06:48:29| paid|Horn Concerto No....|       93|\n",
      "|100014|       NextSong|2018-10-12 06:53:06| paid|              Wicked|       93|\n",
      "|100014|       NextSong|2018-10-12 06:58:37| paid| Midnattens Widunder|       93|\n",
      "|100014|       NextSong|2018-10-12 07:03:15| paid|              Heaven|       93|\n",
      "|100014|       NextSong|2018-10-12 07:07:18| paid|         Walk It Off|       93|\n",
      "|100014|           Home|2018-10-16 16:46:15| paid|                null|       98|\n",
      "|100014|       NextSong|2018-10-16 16:46:27| paid|    Somebody To Love|       98|\n",
      "|100014|      Thumbs Up|2018-10-16 16:46:28| paid|                null|       98|\n",
      "|100014|       NextSong|2018-10-16 16:50:07| paid|            What If?|       98|\n",
      "|100014|           Home|2018-10-16 16:50:19| paid|                null|       98|\n",
      "|100014|       NextSong|2018-10-16 16:56:39| paid|(Pop)Ular SciencE...|       98|\n",
      "|100014|       NextSong|2018-10-16 17:00:50| paid|        Tengo Hambre|       98|\n",
      "|100014|    Roll Advert|2018-10-16 17:01:02| paid|                null|       98|\n",
      "|100014|       NextSong|2018-10-16 17:04:54| paid|Rollout (My Busin...|       98|\n",
      "|100014|       NextSong|2018-10-16 17:09:50| paid|Bitter Sweet Symp...|       98|\n",
      "|100014|       NextSong|2018-10-16 17:15:50| paid|Chao Lola (Album ...|       98|\n",
      "|100014|       NextSong|2018-10-16 17:19:43| paid|Let's Make Nasty ...|       98|\n",
      "+------+---------------+-------------------+-----+--------------------+---------+\n",
      "only showing top 100 rows\n",
      "\n"
     ]
    }
   ],
   "source": [
    "df.select([\"userId\", \"page\", \"time\", \"level\", \"song\", \"sessionId\"]).where(df.userId == \"100014\").sort(\"time\").show(100)"
   ]
  },
  {
   "cell_type": "markdown",
   "metadata": {},
   "source": [
    "#### Add the churn colurmn in df"
   ]
  },
  {
   "cell_type": "code",
   "execution_count": 14,
   "metadata": {},
   "outputs": [],
   "source": [
    "churn_users = df.filter(df.page==\"Cancellation Confirmation\").select(\"userId\").dropDuplicates()\n",
    "churn_users_list = [(row['userId']) for row in churn_users.collect()]\n",
    "df_withchurn = df.withColumn(\"churn\", df.userId.isin(churn_users_list))"
   ]
  },
  {
   "cell_type": "code",
   "execution_count": 15,
   "metadata": {},
   "outputs": [],
   "source": [
    "#churn_users.collect()"
   ]
  },
  {
   "cell_type": "markdown",
   "metadata": {},
   "source": [
    "Show the gender distribution between churn user and normal user"
   ]
  },
  {
   "cell_type": "code",
   "execution_count": 16,
   "metadata": {},
   "outputs": [
    {
     "name": "stdout",
     "output_type": "stream",
     "text": [
      "+-----+------+-----+\n",
      "|churn|gender|count|\n",
      "+-----+------+-----+\n",
      "|false|     M|   89|\n",
      "|false|     F|   84|\n",
      "| true|     F|   20|\n",
      "| true|     M|   32|\n",
      "+-----+------+-----+\n",
      "\n"
     ]
    }
   ],
   "source": [
    "df_withchurn.dropDuplicates([\"userId\", \"gender\"]).groupby([\"churn\", \"gender\"]).count().sort(\"churn\").show()"
   ]
  },
  {
   "cell_type": "code",
   "execution_count": 17,
   "metadata": {},
   "outputs": [
    {
     "data": {
      "text/plain": [
       "<matplotlib.axes._subplots.AxesSubplot at 0x7f84a20fd630>"
      ]
     },
     "execution_count": 17,
     "metadata": {},
     "output_type": "execute_result"
    },
    {
     "data": {
      "image/png": "[encoded data removed]",
      "text/plain": [
       "<matplotlib.figure.Figure at 0x7f84a20cdda0>"
      ]
     },
     "metadata": {
      "needs_background": "light"
     },
     "output_type": "display_data"
    }
   ],
   "source": [
    "df_pd = df_withchurn.dropDuplicates([\"userId\", \"gender\"]).groupby([\"churn\", \"gender\"]).count().sort(\"churn\").toPandas()\n",
    "sns.barplot(x='churn', y='count', hue='gender', data=df_pd)"
   ]
  },
  {
   "cell_type": "markdown",
   "metadata": {},
   "source": [
    "Show the page use distribution between churn user and normal user"
   ]
  },
  {
   "cell_type": "code",
   "execution_count": 18,
   "metadata": {},
   "outputs": [],
   "source": [
    "churn_count = df_withchurn.filter(df_withchurn.churn==1).count()\n",
    "no_churn_count = df_withchurn.filter(df_withchurn.churn==0).count()\n",
    "\n",
    "df_temp1 = df_withchurn.filter(df_withchurn.churn==1).filter(df_withchurn.page!=\"NextSong\").groupby([\"page\"]).count()\n",
    "df_temp1 = df_temp1.withColumn(\"cFreq\", df_temp1[\"count\"]/(churn_count/100)).sort(\"page\")\n",
    "\n",
    "df_temp2 = df_withchurn.filter(df_withchurn.churn==0).filter(df_withchurn.page!=\"NextSong\").groupby([\"page\"]).count()\n",
    "df_temp2 = df_temp2.withColumn(\"ncFreq\", df_temp2[\"count\"]/(no_churn_count/100)).sort(\"page\")"
   ]
  },
  {
   "cell_type": "code",
   "execution_count": 19,
   "metadata": {},
   "outputs": [
    {
     "data": {
      "text/plain": [
       "<matplotlib.axes._subplots.AxesSubplot at 0x7f84a20c74a8>"
      ]
     },
     "execution_count": 19,
     "metadata": {},
     "output_type": "execute_result"
    },
    {
     "data": {
      "image/png": "[encoded data removed]",
      "text/plain": [
       "<matplotlib.figure.Figure at 0x7f84d36bd8d0>"
      ]
     },
     "metadata": {
      "needs_background": "light"
     },
     "output_type": "display_data"
    }
   ],
   "source": [
    "df_pd = df_temp1.join(df_temp2, \"page\", \"outer\").drop(\"count\").fillna(0).toPandas()\n",
    "df_pd.plot.bar(\"page\")"
   ]
  },
  {
   "cell_type": "markdown",
   "metadata": {},
   "source": [
    "Show the level when the user churned"
   ]
  },
  {
   "cell_type": "code",
   "execution_count": 20,
   "metadata": {},
   "outputs": [
    {
     "data": {
      "text/plain": [
       "<matplotlib.axes._subplots.AxesSubplot at 0x7f84a20c7b70>"
      ]
     },
     "execution_count": 20,
     "metadata": {},
     "output_type": "execute_result"
    },
    {
     "data": {
      "image/png": "[encoded data removed]",
      "text/plain": [
       "<matplotlib.figure.Figure at 0x7f84a20d5780>"
      ]
     },
     "metadata": {
      "needs_background": "light"
     },
     "output_type": "display_data"
    }
   ],
   "source": [
    "df_pd = df_withchurn.filter(df_withchurn.page==\"Cancellation Confirmation\").groupby(\"level\").count().toPandas()\n",
    "sns.barplot(x=\"level\", y=\"count\", data=df_pd)"
   ]
  },
  {
   "cell_type": "code",
   "execution_count": 21,
   "metadata": {},
   "outputs": [
    {
     "data": {
      "text/html": [
       "<div>\n",
       "<style scoped>\n",
       "    .dataframe tbody tr th:only-of-type {\n",
       "        vertical-align: middle;\n",
       "    }\n",
       "\n",
       "    .dataframe tbody tr th {\n",
       "        vertical-align: top;\n",
       "    }\n",
       "\n",
       "    .dataframe thead th {\n",
       "        text-align: right;\n",
       "    }\n",
       "</style>\n",
       "<table border=\"1\" class=\"dataframe\">\n",
       "  <thead>\n",
       "    <tr style=\"text-align: right;\">\n",
       "      <th></th>\n",
       "      <th>level</th>\n",
       "      <th>count</th>\n",
       "    </tr>\n",
       "  </thead>\n",
       "  <tbody>\n",
       "    <tr>\n",
       "      <th>0</th>\n",
       "      <td>free</td>\n",
       "      <td>21</td>\n",
       "    </tr>\n",
       "    <tr>\n",
       "      <th>1</th>\n",
       "      <td>paid</td>\n",
       "      <td>31</td>\n",
       "    </tr>\n",
       "  </tbody>\n",
       "</table>\n",
       "</div>"
      ],
      "text/plain": [
       "  level  count\n",
       "0  free     21\n",
       "1  paid     31"
      ]
     },
     "execution_count": 21,
     "metadata": {},
     "output_type": "execute_result"
    }
   ],
   "source": [
    "df_pd"
   ]
  },
  {
   "cell_type": "markdown",
   "metadata": {},
   "source": [
    "Show the time span of the log"
   ]
  },
  {
   "cell_type": "code",
   "execution_count": 23,
   "metadata": {},
   "outputs": [
    {
     "name": "stdout",
     "output_type": "stream",
     "text": [
      "+-------+-------------------+\n",
      "|summary|               time|\n",
      "+-------+-------------------+\n",
      "|  count|             278154|\n",
      "|   mean|               null|\n",
      "| stddev|               null|\n",
      "|    min|2018-10-01 00:01:57|\n",
      "|    max|2018-12-03 01:11:16|\n",
      "+-------+-------------------+\n",
      "\n"
     ]
    }
   ],
   "source": [
    "df_withchurn.select(\"time\").describe().show()"
   ]
  },
  {
   "cell_type": "markdown",
   "metadata": {},
   "source": [
    "Show the distribution in operations in each session"
   ]
  },
  {
   "cell_type": "code",
   "execution_count": 24,
   "metadata": {},
   "outputs": [
    {
     "data": {
      "text/plain": [
       "<matplotlib.axes._subplots.AxesSubplot at 0x7f849be216a0>"
      ]
     },
     "execution_count": 24,
     "metadata": {},
     "output_type": "execute_result"
    },
    {
     "data": {
      "image/png": "[encoded data removed]",
      "text/plain": [
       "<matplotlib.figure.Figure at 0x7f849be35e48>"
      ]
     },
     "metadata": {
      "needs_background": "light"
     },
     "output_type": "display_data"
    }
   ],
   "source": [
    "df_pd = df_withchurn.groupby(\"churn\", \"userId\", \"sessionId\").count().toPandas()\n",
    "sns.boxplot(x='count', y='churn', orient=\"h\", data=df_pd)"
   ]
  },
  {
   "cell_type": "markdown",
   "metadata": {},
   "source": [
    "Time distribution"
   ]
  },
  {
   "cell_type": "code",
   "execution_count": 25,
   "metadata": {},
   "outputs": [],
   "source": [
    "get_hour = udf(lambda x: datetime.datetime.fromtimestamp(x / 1000.0).hour)\n",
    "df_withchurn = df_withchurn.withColumn(\"hour\", get_hour(df_withchurn.ts))\n",
    "\n",
    "get_weekday = udf(lambda x: datetime.datetime.fromtimestamp(x / 1000.0).strftime(\"%w\"))\n",
    "df_withchurn = df_withchurn.withColumn(\"weekday\", get_weekday(df_withchurn.ts))\n",
    "\n",
    "get_day = udf(lambda x: datetime.datetime.fromtimestamp(x / 1000.0).day)\n",
    "df_withchurn = df_withchurn.withColumn(\"day\", get_day(df_withchurn.ts))"
   ]
  },
  {
   "cell_type": "code",
   "execution_count": 26,
   "metadata": {},
   "outputs": [],
   "source": [
    "def plot_cnt_by_churn(time): \n",
    "    \"\"\"\n",
    "    This function use to plot the distribution of different dimension\n",
    "    \"\"\"\n",
    "    df_pd = df_withchurn.filter(df_withchurn.page == \"NextSong\").groupby(\"churn\", time).count().orderBy(df_withchurn[time].cast(\"float\")).toPandas()\n",
    "    df_pd[time] = pd.to_numeric(df_pd[time])\n",
    "    df_pd[df_pd.churn==0].plot.bar(x=time, y='count', color='green', label='Not churn')\n",
    "    df_pd[df_pd.churn==1].plot.bar(x=time, y='count', color='blue', label='Churn')"
   ]
  },
  {
   "cell_type": "code",
   "execution_count": 27,
   "metadata": {},
   "outputs": [
    {
     "data": {
      "image/png": "[encoded data removed]",
      "text/plain": [
       "<matplotlib.figure.Figure at 0x7f849be1d1d0>"
      ]
     },
     "metadata": {
      "needs_background": "light"
     },
     "output_type": "display_data"
    },
    {
     "data": {
      "image/png": "[encoded data removed]",
      "text/plain": [
       "<matplotlib.figure.Figure at 0x7f849bcfb908>"
      ]
     },
     "metadata": {
      "needs_background": "light"
     },
     "output_type": "display_data"
    }
   ],
   "source": [
    "plot_cnt_by_churn(\"hour\")"
   ]
  },
  {
   "cell_type": "code",
   "execution_count": 28,
   "metadata": {},
   "outputs": [
    {
     "data": {
      "image/png": "[encoded data removed]",
      "text/plain": [
       "<matplotlib.figure.Figure at 0x7f849bc6a5f8>"
      ]
     },
     "metadata": {
      "needs_background": "light"
     },
     "output_type": "display_data"
    },
    {
     "data": {
      "image/png": "[encoded data removed]",
      "text/plain": [
       "<matplotlib.figure.Figure at 0x7f849bbad978>"
      ]
     },
     "metadata": {
      "needs_background": "light"
     },
     "output_type": "display_data"
    }
   ],
   "source": [
    "plot_cnt_by_churn(\"weekday\")"
   ]
  },
  {
   "cell_type": "code",
   "execution_count": 29,
   "metadata": {},
   "outputs": [
    {
     "data": {
      "image/png": "[encoded data removed]",
      "text/plain": [
       "<matplotlib.figure.Figure at 0x7f849bb5af98>"
      ]
     },
     "metadata": {
      "needs_background": "light"
     },
     "output_type": "display_data"
    },
    {
     "data": {
      "image/png": "[encoded data removed]",
      "text/plain": [
       "<matplotlib.figure.Figure at 0x7f849ba15c88>"
      ]
     },
     "metadata": {
      "needs_background": "light"
     },
     "output_type": "display_data"
    }
   ],
   "source": [
    "plot_cnt_by_churn('day')"
   ]
  },
  {
   "cell_type": "code",
   "execution_count": null,
   "metadata": {},
   "outputs": [],
   "source": []
  },
  {
   "cell_type": "markdown",
   "metadata": {},
   "source": [
    "# Feature Engineering\n",
    "Once you've familiarized yourself with the data, build out the features you find promising to train your model on. To work with the full dataset, you can follow the following steps.\n",
    "- Write a script to extract the necessary features from the smaller subset of data\n",
    "- Ensure that your script is scalable, using the best practices discussed in Lesson 3\n",
    "- Try your script on the full data set, debugging your script if necessary\n",
    "\n",
    "If you are working in the classroom workspace, you can just extract features based on the small subset of data contained here. Be sure to transfer over this work to the larger dataset when you work on your Spark cluster."
   ]
  },
  {
   "cell_type": "markdown",
   "metadata": {},
   "source": [
    "Overview\n",
    "\n",
    "There are many featurs to keep,\n",
    "\n",
    "   1. Categoric features 1needs to be converted to numeric form through dummi encoding)\n",
    "            a.Gender of user\n",
    "            b.The user's OS os_specific\n",
    "            c.(may be) the state he/she lives in\n",
    "            d.The payment level (Paid/Free)\n",
    "            e.(may be) the top artist the user listined to.\n",
    "\n",
    "   2. Numeric features\n",
    "            a.Song length per user per session\n",
    "            b.Number of ThumbsUp\n",
    "            c.Number of ThumbsDown\n",
    "            d.Number of InviteFriends\n",
    "            e.Number of downgrades\n",
    "            f.Number of songs per session\n",
    "            g.Number of artists the user fans\n",
    "            h.Session's duration\n",
    "            i.Sessions' count per user\n",
    "            j.The user's subscription age\n",
    "            k.Number of days as free/paid user\n",
    "\n",
    "First of all we should create a table of chorn/ not chorn users, as the base of ML dataset"
   ]
  },
  {
   "cell_type": "markdown",
   "metadata": {},
   "source": [
    "Feature 1: number of days since registration"
   ]
  },
  {
   "cell_type": "code",
   "execution_count": 30,
   "metadata": {},
   "outputs": [],
   "source": [
    "user_max_ts = df_withchurn.groupby(\"userId\").max(\"ts\").sort(\"userId\")\n",
    "user_reg_ts = df_withchurn.select(\"userId\", \"registration\").dropDuplicates().sort(\"userId\")\n",
    "user_reg_days = user_reg_ts.join(user_max_ts, user_reg_ts.userId == user_max_ts.userId).select(user_reg_ts[\"userId\"], ((user_max_ts[\"max(ts)\"]-user_reg_ts[\"registration\"])/(1000*60*60*24)).alias(\"regDay\"))"
   ]
  },
  {
   "cell_type": "code",
   "execution_count": 31,
   "metadata": {},
   "outputs": [
    {
     "name": "stdout",
     "output_type": "stream",
     "text": [
      "+------+------------------+\n",
      "|userId|            regDay|\n",
      "+------+------------------+\n",
      "|    10| 51.76265046296297|\n",
      "|   100| 64.87377314814815|\n",
      "|100001| 44.80021990740741|\n",
      "|100002|160.47207175925925|\n",
      "|100003|22.748113425925926|\n",
      "+------+------------------+\n",
      "only showing top 5 rows\n",
      "\n"
     ]
    }
   ],
   "source": [
    "user_reg_days.show(5)"
   ]
  },
  {
   "cell_type": "code",
   "execution_count": 32,
   "metadata": {},
   "outputs": [
    {
     "name": "stdout",
     "output_type": "stream",
     "text": [
      "+------+-----+\n",
      "|userId|churn|\n",
      "+------+-----+\n",
      "|    19|false|\n",
      "|100005| true|\n",
      "|200007|false|\n",
      "|300007| true|\n",
      "|    50|false|\n",
      "|200002|false|\n",
      "|    30|false|\n",
      "|     8|false|\n",
      "|100011| true|\n",
      "|100012| true|\n",
      "+------+-----+\n",
      "only showing top 10 rows\n",
      "\n"
     ]
    }
   ],
   "source": [
    "churn_users = df_withchurn.select('userId', 'churn').dropDuplicates()\n",
    "# check\n",
    "churn_users.show(10)"
   ]
  },
  {
   "cell_type": "markdown",
   "metadata": {},
   "source": [
    "Feature 2: avg & min & max time per session"
   ]
  },
  {
   "cell_type": "code",
   "execution_count": 33,
   "metadata": {},
   "outputs": [],
   "source": [
    "user_session_time = df_withchurn.groupby(\"userId\", \"sessionId\")\\\n",
    ".agg(((max(df_withchurn.ts)-min(df_withchurn.ts))/(1000*60)).alias(\"sessionTime\"))\n",
    "\n",
    "user_session_time_stat = user_session_time.groupby(\"userId\").agg(avg(user_session_time.sessionTime).alias(\"avgSessionTime\"), \n",
    "min(user_session_time.sessionTime).alias(\"minSessionTime\"),\n",
    "max(user_session_time.sessionTime).alias(\"maxSessionTime\")).sort(\"userId\")"
   ]
  },
  {
   "cell_type": "code",
   "execution_count": 34,
   "metadata": {},
   "outputs": [
    {
     "name": "stdout",
     "output_type": "stream",
     "text": [
      "+------+------------------+-----------------+------------------+\n",
      "|userId|    avgSessionTime|   minSessionTime|    maxSessionTime|\n",
      "+------+------------------+-----------------+------------------+\n",
      "|    10|459.74722222222226|91.41666666666667|1547.9166666666667|\n",
      "|   100| 316.5190476190476|              0.0|1019.5833333333334|\n",
      "|100001|148.15833333333333|             63.0|215.28333333333333|\n",
      "|100002|201.18333333333334|              0.0| 730.4666666666667|\n",
      "|100003| 99.11666666666667|3.216666666666667|195.01666666666668|\n",
      "+------+------------------+-----------------+------------------+\n",
      "only showing top 5 rows\n",
      "\n"
     ]
    }
   ],
   "source": [
    "user_session_time_stat.show(5)"
   ]
  },
  {
   "cell_type": "markdown",
   "metadata": {},
   "source": [
    "Feature 3: number of songs per session"
   ]
  },
  {
   "cell_type": "code",
   "execution_count": 35,
   "metadata": {},
   "outputs": [],
   "source": [
    "user_session_songs = df_withchurn.filter(df_withchurn.page==\"NextSong\").groupby(\"userId\", \"sessionId\").count()\n",
    "\n",
    "user_session_songs_avg = user_session_songs.groupby(\"userId\").agg(avg(user_session_songs[\"count\"]).alias(\"avgSessionSongs\")).sort(\"userId\")"
   ]
  },
  {
   "cell_type": "code",
   "execution_count": 36,
   "metadata": {},
   "outputs": [
    {
     "name": "stdout",
     "output_type": "stream",
     "text": [
      "+------+---------+-----+\n",
      "|userId|sessionId|count|\n",
      "+------+---------+-----+\n",
      "|    92|      358|   57|\n",
      "|    42|      433|   16|\n",
      "|   101|      635|  708|\n",
      "|   120|      627|  236|\n",
      "|   140|      798|    3|\n",
      "|   122|      691|    6|\n",
      "|    29|     1030|   13|\n",
      "|     8|     1200|   11|\n",
      "|    96|     1653|  133|\n",
      "|   153|     1794|   62|\n",
      "+------+---------+-----+\n",
      "only showing top 10 rows\n",
      "\n"
     ]
    }
   ],
   "source": [
    "user_session_songs.show(10)"
   ]
  },
  {
   "cell_type": "markdown",
   "metadata": {},
   "source": [
    "Feature 4: number of sessions"
   ]
  },
  {
   "cell_type": "code",
   "execution_count": 37,
   "metadata": {},
   "outputs": [],
   "source": [
    "user_session_count = df_withchurn.select(\"userId\", \"sessionId\").dropDuplicates().groupby(\"userId\").count()\n",
    "\n",
    "user_session_count = user_session_count.withColumnRenamed(\"count\", \"sessionCount\")"
   ]
  },
  {
   "cell_type": "code",
   "execution_count": 38,
   "metadata": {},
   "outputs": [
    {
     "name": "stdout",
     "output_type": "stream",
     "text": [
      "+------+------------+\n",
      "|userId|sessionCount|\n",
      "+------+------------+\n",
      "|100010|           7|\n",
      "|200002|           6|\n",
      "|   125|           1|\n",
      "|    51|          10|\n",
      "|   124|          29|\n",
      "|     7|           7|\n",
      "|    54|          37|\n",
      "|    15|          15|\n",
      "|   155|           6|\n",
      "|100014|           6|\n",
      "+------+------------+\n",
      "only showing top 10 rows\n",
      "\n"
     ]
    }
   ],
   "source": [
    "user_session_count.show(10)"
   ]
  },
  {
   "cell_type": "markdown",
   "metadata": {},
   "source": [
    "Feature 5: gender"
   ]
  },
  {
   "cell_type": "code",
   "execution_count": 39,
   "metadata": {},
   "outputs": [
    {
     "name": "stdout",
     "output_type": "stream",
     "text": [
      "+------+------+\n",
      "|userId|gender|\n",
      "+------+------+\n",
      "|    44|     1|\n",
      "|    46|     1|\n",
      "|    41|     1|\n",
      "|    72|     1|\n",
      "|300023|     1|\n",
      "|    39|     1|\n",
      "|100010|     1|\n",
      "|    40|     1|\n",
      "|    94|     1|\n",
      "|    35|     1|\n",
      "+------+------+\n",
      "only showing top 10 rows\n",
      "\n"
     ]
    }
   ],
   "source": [
    "user_gender = df_withchurn.select(\"userId\", \"gender\").dropDuplicates()\n",
    "user_gender = user_gender.replace([\"M\", \"F\"], [\"0\", \"1\"], \"gender\")\n",
    "user_gender = user_gender.select(\"userId\", user_gender.gender.cast(\"int\"))\n",
    "\n",
    "user_gender.show(10)"
   ]
  },
  {
   "cell_type": "markdown",
   "metadata": {},
   "source": [
    "Feature 6: whether the user is currently a paid user"
   ]
  },
  {
   "cell_type": "code",
   "execution_count": 40,
   "metadata": {},
   "outputs": [
    {
     "name": "stdout",
     "output_type": "stream",
     "text": [
      "+------+-----+\n",
      "|userId|level|\n",
      "+------+-----+\n",
      "|    10|    1|\n",
      "|   100|    1|\n",
      "|100001|    0|\n",
      "|100002|    1|\n",
      "|100003|    0|\n",
      "|100004|    1|\n",
      "|100005|    0|\n",
      "|100006|    0|\n",
      "|100007|    1|\n",
      "|100008|    0|\n",
      "+------+-----+\n",
      "only showing top 10 rows\n",
      "\n"
     ]
    }
   ],
   "source": [
    "user_paid = df_withchurn.groupby(\"userId\", \"level\").agg(max(df_withchurn.ts).alias(\"finalTime\")).sort(\"userId\")\n",
    "\n",
    "user_recent_level_time = user_paid.groupby(\"userId\").agg(max(user_paid.finalTime).alias(\"recent\"))\n",
    "\n",
    "user_recent_level = user_recent_level_time.join(user_paid, [user_paid.userId == user_recent_level_time.userId, user_recent_level_time.recent == user_paid.finalTime]).select(user_paid.userId, \"level\").sort(\"userId\")\n",
    "\n",
    "user_recent_level = user_recent_level.replace([\"free\", \"paid\"], [\"0\", \"1\"], \"level\")\n",
    "\n",
    "user_recent_level = user_recent_level.select(\"userId\", user_recent_level.level.cast(\"int\"))\n",
    "\n",
    "user_recent_level.show(10)"
   ]
  },
  {
   "cell_type": "markdown",
   "metadata": {},
   "source": [
    "Feature 7: frequency of use of pages"
   ]
  },
  {
   "cell_type": "code",
   "execution_count": 41,
   "metadata": {},
   "outputs": [],
   "source": [
    "# get all the type of page\n",
    "page_list = [(row['page']) for row in df_withchurn.select(\"page\").dropDuplicates().collect()]\n",
    "\n",
    "# must remove the column which will cause data leakage\n",
    "page_list.remove(\"Cancel\")\n",
    "page_list.remove(\"Cancellation Confirmation\")\n",
    "\n",
    "# caculate the total page each user view\n",
    "user_page_view_count = df_withchurn.groupby(\"userId\").count()\n",
    "user_page_view_count = user_page_view_count.withColumnRenamed(\"count\", \"pageCount\")\n",
    "\n",
    "\n",
    "for page in page_list:\n",
    "    col_name = \"count\" + page.replace(\" \", \"\")\n",
    "    view_count = df_withchurn.filter(df_withchurn.page==page).groupby(\"userId\").count()\n",
    "    view_count = view_count.withColumnRenamed(\"count\", col_name).withColumnRenamed(\"userId\", \"userIdTemp\")\n",
    "    user_page_view_count = user_page_view_count.join(view_count, user_page_view_count.userId==view_count.userIdTemp, \"left\").drop(\"userIdTemp\")\n",
    "user_page_view_count = user_page_view_count.sort(\"userId\")\n",
    "user_page_view_count = user_page_view_count.fillna(0)"
   ]
  },
  {
   "cell_type": "code",
   "execution_count": 43,
   "metadata": {},
   "outputs": [],
   "source": [
    "col_list = user_page_view_count.columns\n",
    "col_list.remove(\"userId\")\n",
    "col_list.remove(\"pageCount\")\n",
    "freq_sql = \"select userId\"\n",
    "for col in col_list:\n",
    "    col_name = col.replace(\"count\", \"freq\")\n",
    "    sql_str = \", (\" + col + \"/(pageCount/100)) as \" + col_name\n",
    "    freq_sql = freq_sql + sql_str\n",
    "freq_sql = freq_sql + \" from user_page_view_count\"\n",
    "\n",
    "user_page_view_count.createOrReplaceTempView(\"user_page_view_count\")\n",
    "col_list = user_page_view_count.columns\n",
    "col_list.remove(\"userId\")\n",
    "col_list.remove(\"pageCount\")\n",
    "freq_sql = \"select userId\"\n",
    "for col in col_list:\n",
    "    col_name = col.replace(\"count\", \"freq\")\n",
    "    sql_str = \", (\" + col + \"/(pageCount/100)) as \" + col_name\n",
    "    freq_sql = freq_sql + sql_str\n",
    "freq_sql = freq_sql + \" from user_page_view_count\"\n",
    "\n",
    "user_page_view_freq = spark.sql(freq_sql)"
   ]
  },
  {
   "cell_type": "code",
   "execution_count": 44,
   "metadata": {},
   "outputs": [
    {
     "name": "stdout",
     "output_type": "stream",
     "text": [
      "+------+--------------------+------------------+------------------+------------------+-------------------+------------------+-------------------+-------------------+-------------------+------------------+------------------+-----------------+-----------------+-------------------+--------------------+-------------------+--------------------+\n",
      "|userId| freqSubmitDowngrade|    freqThumbsDown|          freqHome|     freqDowngrade|     freqRollAdvert|        freqLogout|   freqSaveSettings|          freqAbout|       freqSettings| freqAddtoPlaylist|     freqAddFriend|     freqNextSong|     freqThumbsUp|           freqHelp|         freqUpgrade|          freqError|   freqSubmitUpgrade|\n",
      "+------+--------------------+------------------+------------------+------------------+-------------------+------------------+-------------------+-------------------+-------------------+------------------+------------------+-----------------+-----------------+-------------------+--------------------+-------------------+--------------------+\n",
      "|    10|                 0.0|0.5031446540880503|3.7735849056603774|0.8805031446540881|0.12578616352201258|1.3836477987421383|0.12578616352201258|0.25157232704402516| 0.8805031446540881|1.1320754716981132|1.5094339622641508|84.65408805031447|4.654088050314465|0.12578616352201258|                 0.0|                0.0|                 0.0|\n",
      "|   100|0.031113876789047916|0.8400746733042938| 3.266957062850031|0.9334163036714375| 0.7778469197261979| 1.088985687616677| 0.1555693839452396|0.37336652146857496|0.34225264467952704| 1.897946484131923|1.5245799626633478|83.44741754822651|4.604853764779091| 0.5600497822028625|0.031113876789047916|0.09334163036714374|0.031113876789047916|\n",
      "|100001|                 0.0|  1.06951871657754|  5.88235294117647|               0.0| 7.4866310160427805|3.7433155080213902|                0.0|                0.0|   0.53475935828877|1.6042780748663101|  1.06951871657754|71.12299465240642| 4.27807486631016|   0.53475935828877|    1.06951871657754|   0.53475935828877|                 0.0|\n",
      "|100002|                 0.0|               0.0|2.7522935779816513|0.9174311926605504| 1.3761467889908257|0.4587155963302752|                0.0|                0.0|                0.0| 2.293577981651376|0.4587155963302752|89.44954128440367|2.293577981651376|                0.0|                 0.0|                0.0|                 0.0|\n",
      "|100003|                 0.0|               0.0| 8.974358974358974|               0.0| 11.538461538461538| 3.846153846153846|                0.0|                0.0|                0.0| 2.564102564102564|               0.0|65.38461538461539|3.846153846153846|  1.282051282051282|                 0.0|                0.0|                 0.0|\n",
      "+------+--------------------+------------------+------------------+------------------+-------------------+------------------+-------------------+-------------------+-------------------+------------------+------------------+-----------------+-----------------+-------------------+--------------------+-------------------+--------------------+\n",
      "only showing top 5 rows\n",
      "\n"
     ]
    }
   ],
   "source": [
    "user_page_view_freq.show(5)"
   ]
  },
  {
   "cell_type": "markdown",
   "metadata": {},
   "source": [
    "Feature 8: how many singers have the user heard"
   ]
  },
  {
   "cell_type": "code",
   "execution_count": 45,
   "metadata": {},
   "outputs": [
    {
     "name": "stdout",
     "output_type": "stream",
     "text": [
      "+------+-----------+\n",
      "|userId|aritstCount|\n",
      "+------+-----------+\n",
      "|100010|        252|\n",
      "|200002|        339|\n",
      "|   125|          8|\n",
      "|    51|       1385|\n",
      "|   124|       2232|\n",
      "+------+-----------+\n",
      "only showing top 5 rows\n",
      "\n"
     ]
    }
   ],
   "source": [
    "user_artist_count = df_withchurn.filter(df_withchurn.page==\"NextSong\").select(\"userId\", \"artist\").dropDuplicates().groupby(\"userId\").count()\n",
    "user_artist_count = user_artist_count.withColumnRenamed(\"count\", \"aritstCount\")\n",
    "\n",
    "user_artist_count.show(5)"
   ]
  },
  {
   "cell_type": "markdown",
   "metadata": {},
   "source": [
    "Label: churn"
   ]
  },
  {
   "cell_type": "code",
   "execution_count": 46,
   "metadata": {},
   "outputs": [],
   "source": [
    "user_churn = df_withchurn.select(\"userId\", \"churn\").dropDuplicates()\n",
    "user_churn = user_churn.select(\"userId\", user_churn.churn.cast(\"int\"))"
   ]
  },
  {
   "cell_type": "code",
   "execution_count": 47,
   "metadata": {},
   "outputs": [
    {
     "name": "stdout",
     "output_type": "stream",
     "text": [
      "+------+-----+\n",
      "|userId|churn|\n",
      "+------+-----+\n",
      "|    19|    0|\n",
      "|100005|    1|\n",
      "|200007|    0|\n",
      "|300007|    1|\n",
      "|    50|    0|\n",
      "+------+-----+\n",
      "only showing top 5 rows\n",
      "\n"
     ]
    }
   ],
   "source": [
    "user_churn.show(5)"
   ]
  },
  {
   "cell_type": "markdown",
   "metadata": {},
   "source": [
    "Put all the features into a dataframe"
   ]
  },
  {
   "cell_type": "code",
   "execution_count": 48,
   "metadata": {},
   "outputs": [],
   "source": [
    "# put all the features dataframe into a list\n",
    "features_list = []\n",
    "features_list.append(user_reg_days)\n",
    "features_list.append(user_session_time_stat)\n",
    "features_list.append(user_session_songs_avg)\n",
    "features_list.append(user_session_count)\n",
    "features_list.append(user_gender)\n",
    "features_list.append(user_recent_level)\n",
    "features_list.append(user_page_view_freq)\n",
    "features_list.append(user_artist_count)\n",
    "features_list.append(user_churn)"
   ]
  },
  {
   "cell_type": "code",
   "execution_count": 49,
   "metadata": {},
   "outputs": [],
   "source": [
    "# prepare the final dataframe to join all the other features\n",
    "df_final = df_withchurn.select(\"userId\").dropDuplicates()"
   ]
  },
  {
   "cell_type": "code",
   "execution_count": 50,
   "metadata": {},
   "outputs": [],
   "source": [
    "def features_merge(df1, df2):\n",
    "    \"\"\"\n",
    "    This function is used to merge the feature using left join\n",
    "    input: two data frame to be merged\n",
    "    output: merged dataframe\n",
    "    \"\"\"\n",
    "    df2 = df2.withColumnRenamed(\"userId\", \"userIdTemp\")\n",
    "    df = df1.join(df2, df1.userId == df2.userIdTemp, \"left\").drop(\"userIdTemp\")\n",
    "    return df"
   ]
  },
  {
   "cell_type": "code",
   "execution_count": 51,
   "metadata": {},
   "outputs": [],
   "source": [
    "# use function to merge the features in the list\n",
    "for feature in features_list:\n",
    "    df_final = features_merge(df_final, feature)\n"
   ]
  },
  {
   "cell_type": "code",
   "execution_count": 52,
   "metadata": {},
   "outputs": [
    {
     "name": "stdout",
     "output_type": "stream",
     "text": [
      "+------+------------------+------------------+-----------------+------------------+------------------+------------+------+-----+--------------------+------------------+------------------+------------------+-------------------+------------------+-------------------+-------------------+-------------------+------------------+------------------+-----------------+-----------------+-------------------+--------------------+-------------------+--------------------+-----------+-----+\n",
      "|userId|            regDay|    avgSessionTime|   minSessionTime|    maxSessionTime|   avgSessionSongs|sessionCount|gender|level| freqSubmitDowngrade|    freqThumbsDown|          freqHome|     freqDowngrade|     freqRollAdvert|        freqLogout|   freqSaveSettings|          freqAbout|       freqSettings| freqAddtoPlaylist|     freqAddFriend|     freqNextSong|     freqThumbsUp|           freqHelp|         freqUpgrade|          freqError|   freqSubmitUpgrade|aritstCount|churn|\n",
      "+------+------------------+------------------+-----------------+------------------+------------------+------------+------+-----+--------------------+------------------+------------------+------------------+-------------------+------------------+-------------------+-------------------+-------------------+------------------+------------------+-----------------+-----------------+-------------------+--------------------+-------------------+--------------------+-----------+-----+\n",
      "|    10| 51.76265046296297|459.74722222222226|91.41666666666667|1547.9166666666667|112.16666666666667|           6|     0|    1|                 0.0|0.5031446540880503|3.7735849056603774|0.8805031446540881|0.12578616352201258|1.3836477987421383|0.12578616352201258|0.25157232704402516| 0.8805031446540881|1.1320754716981132|1.5094339622641508|84.65408805031447|4.654088050314465|0.12578616352201258|                 0.0|                0.0|                 0.0|        565|    0|\n",
      "|   100| 64.87377314814815| 316.5190476190476|              0.0|1019.5833333333334| 78.88235294117646|          35|     0|    1|0.031113876789047916|0.8400746733042938| 3.266957062850031|0.9334163036714375| 0.7778469197261979| 1.088985687616677| 0.1555693839452396|0.37336652146857496|0.34225264467952704| 1.897946484131923|1.5245799626633478|83.44741754822651|4.604853764779091| 0.5600497822028625|0.031113876789047916|0.09334163036714374|0.031113876789047916|       1705|    0|\n",
      "|100001| 44.80021990740741|148.15833333333333|             63.0|215.28333333333333|             33.25|           4|     1|    0|                 0.0|  1.06951871657754|  5.88235294117647|               0.0| 7.4866310160427805|3.7433155080213902|                0.0|                0.0|   0.53475935828877|1.6042780748663101|  1.06951871657754|71.12299465240642| 4.27807486631016|   0.53475935828877|    1.06951871657754|   0.53475935828877|                 0.0|        125|    1|\n",
      "|100002|160.47207175925925|201.18333333333334|              0.0| 730.4666666666667|             48.75|           4|     1|    1|                 0.0|               0.0|2.7522935779816513|0.9174311926605504| 1.3761467889908257|0.4587155963302752|                0.0|                0.0|                0.0| 2.293577981651376|0.4587155963302752|89.44954128440367|2.293577981651376|                0.0|                 0.0|                0.0|                 0.0|        184|    0|\n",
      "|100003|22.748113425925926| 99.11666666666667|3.216666666666667|195.01666666666668|              25.5|           2|     1|    0|                 0.0|               0.0| 8.974358974358974|               0.0| 11.538461538461538| 3.846153846153846|                0.0|                0.0|                0.0| 2.564102564102564|               0.0|65.38461538461539|3.846153846153846|  1.282051282051282|                 0.0|                0.0|                 0.0|         50|    1|\n",
      "+------+------------------+------------------+-----------------+------------------+------------------+------------+------+-----+--------------------+------------------+------------------+------------------+-------------------+------------------+-------------------+-------------------+-------------------+------------------+------------------+-----------------+-----------------+-------------------+--------------------+-------------------+--------------------+-----------+-----+\n",
      "only showing top 5 rows\n",
      "\n"
     ]
    }
   ],
   "source": [
    "# sort and view the final dataframe\n",
    "df_final = df_final.sort(\"userId\")\n",
    "df_final.persist()\n",
    "df_final.show(5)"
   ]
  },
  {
   "cell_type": "markdown",
   "metadata": {},
   "source": [
    "\n",
    "Saving the dataframe for future access in another session"
   ]
  },
  {
   "cell_type": "code",
   "execution_count": 53,
   "metadata": {},
   "outputs": [],
   "source": [
    "# Saving as SPARK format\n",
    "df_final.write.save('saved_user_dataset.CSV', format='csv', header=True)"
   ]
  },
  {
   "cell_type": "markdown",
   "metadata": {},
   "source": [
    "And a pandas dataset as well"
   ]
  },
  {
   "cell_type": "code",
   "execution_count": 54,
   "metadata": {},
   "outputs": [
    {
     "data": {
      "text/html": [
       "<div>\n",
       "<style scoped>\n",
       "    .dataframe tbody tr th:only-of-type {\n",
       "        vertical-align: middle;\n",
       "    }\n",
       "\n",
       "    .dataframe tbody tr th {\n",
       "        vertical-align: top;\n",
       "    }\n",
       "\n",
       "    .dataframe thead th {\n",
       "        text-align: right;\n",
       "    }\n",
       "</style>\n",
       "<table border=\"1\" class=\"dataframe\">\n",
       "  <thead>\n",
       "    <tr style=\"text-align: right;\">\n",
       "      <th></th>\n",
       "      <th>userId</th>\n",
       "      <th>regDay</th>\n",
       "      <th>avgSessionTime</th>\n",
       "      <th>minSessionTime</th>\n",
       "      <th>maxSessionTime</th>\n",
       "      <th>avgSessionSongs</th>\n",
       "      <th>sessionCount</th>\n",
       "      <th>gender</th>\n",
       "      <th>level</th>\n",
       "      <th>freqSubmitDowngrade</th>\n",
       "      <th>...</th>\n",
       "      <th>freqAddtoPlaylist</th>\n",
       "      <th>freqAddFriend</th>\n",
       "      <th>freqNextSong</th>\n",
       "      <th>freqThumbsUp</th>\n",
       "      <th>freqHelp</th>\n",
       "      <th>freqUpgrade</th>\n",
       "      <th>freqError</th>\n",
       "      <th>freqSubmitUpgrade</th>\n",
       "      <th>aritstCount</th>\n",
       "      <th>churn</th>\n",
       "    </tr>\n",
       "  </thead>\n",
       "  <tbody>\n",
       "    <tr>\n",
       "      <th>0</th>\n",
       "      <td>10</td>\n",
       "      <td>51.762650</td>\n",
       "      <td>459.747222</td>\n",
       "      <td>91.416667</td>\n",
       "      <td>1547.916667</td>\n",
       "      <td>112.166667</td>\n",
       "      <td>6</td>\n",
       "      <td>0</td>\n",
       "      <td>1</td>\n",
       "      <td>0.000000</td>\n",
       "      <td>...</td>\n",
       "      <td>1.132075</td>\n",
       "      <td>1.509434</td>\n",
       "      <td>84.654088</td>\n",
       "      <td>4.654088</td>\n",
       "      <td>0.125786</td>\n",
       "      <td>0.000000</td>\n",
       "      <td>0.000000</td>\n",
       "      <td>0.000000</td>\n",
       "      <td>565</td>\n",
       "      <td>0</td>\n",
       "    </tr>\n",
       "    <tr>\n",
       "      <th>1</th>\n",
       "      <td>100</td>\n",
       "      <td>64.873773</td>\n",
       "      <td>316.519048</td>\n",
       "      <td>0.000000</td>\n",
       "      <td>1019.583333</td>\n",
       "      <td>78.882353</td>\n",
       "      <td>35</td>\n",
       "      <td>0</td>\n",
       "      <td>1</td>\n",
       "      <td>0.031114</td>\n",
       "      <td>...</td>\n",
       "      <td>1.897946</td>\n",
       "      <td>1.524580</td>\n",
       "      <td>83.447418</td>\n",
       "      <td>4.604854</td>\n",
       "      <td>0.560050</td>\n",
       "      <td>0.031114</td>\n",
       "      <td>0.093342</td>\n",
       "      <td>0.031114</td>\n",
       "      <td>1705</td>\n",
       "      <td>0</td>\n",
       "    </tr>\n",
       "    <tr>\n",
       "      <th>2</th>\n",
       "      <td>100001</td>\n",
       "      <td>44.800220</td>\n",
       "      <td>148.158333</td>\n",
       "      <td>63.000000</td>\n",
       "      <td>215.283333</td>\n",
       "      <td>33.250000</td>\n",
       "      <td>4</td>\n",
       "      <td>1</td>\n",
       "      <td>0</td>\n",
       "      <td>0.000000</td>\n",
       "      <td>...</td>\n",
       "      <td>1.604278</td>\n",
       "      <td>1.069519</td>\n",
       "      <td>71.122995</td>\n",
       "      <td>4.278075</td>\n",
       "      <td>0.534759</td>\n",
       "      <td>1.069519</td>\n",
       "      <td>0.534759</td>\n",
       "      <td>0.000000</td>\n",
       "      <td>125</td>\n",
       "      <td>1</td>\n",
       "    </tr>\n",
       "    <tr>\n",
       "      <th>3</th>\n",
       "      <td>100002</td>\n",
       "      <td>160.472072</td>\n",
       "      <td>201.183333</td>\n",
       "      <td>0.000000</td>\n",
       "      <td>730.466667</td>\n",
       "      <td>48.750000</td>\n",
       "      <td>4</td>\n",
       "      <td>1</td>\n",
       "      <td>1</td>\n",
       "      <td>0.000000</td>\n",
       "      <td>...</td>\n",
       "      <td>2.293578</td>\n",
       "      <td>0.458716</td>\n",
       "      <td>89.449541</td>\n",
       "      <td>2.293578</td>\n",
       "      <td>0.000000</td>\n",
       "      <td>0.000000</td>\n",
       "      <td>0.000000</td>\n",
       "      <td>0.000000</td>\n",
       "      <td>184</td>\n",
       "      <td>0</td>\n",
       "    </tr>\n",
       "    <tr>\n",
       "      <th>4</th>\n",
       "      <td>100003</td>\n",
       "      <td>22.748113</td>\n",
       "      <td>99.116667</td>\n",
       "      <td>3.216667</td>\n",
       "      <td>195.016667</td>\n",
       "      <td>25.500000</td>\n",
       "      <td>2</td>\n",
       "      <td>1</td>\n",
       "      <td>0</td>\n",
       "      <td>0.000000</td>\n",
       "      <td>...</td>\n",
       "      <td>2.564103</td>\n",
       "      <td>0.000000</td>\n",
       "      <td>65.384615</td>\n",
       "      <td>3.846154</td>\n",
       "      <td>1.282051</td>\n",
       "      <td>0.000000</td>\n",
       "      <td>0.000000</td>\n",
       "      <td>0.000000</td>\n",
       "      <td>50</td>\n",
       "      <td>1</td>\n",
       "    </tr>\n",
       "    <tr>\n",
       "      <th>5</th>\n",
       "      <td>100004</td>\n",
       "      <td>172.440081</td>\n",
       "      <td>185.986508</td>\n",
       "      <td>0.000000</td>\n",
       "      <td>940.216667</td>\n",
       "      <td>47.100000</td>\n",
       "      <td>21</td>\n",
       "      <td>1</td>\n",
       "      <td>1</td>\n",
       "      <td>0.160643</td>\n",
       "      <td>...</td>\n",
       "      <td>1.847390</td>\n",
       "      <td>1.526104</td>\n",
       "      <td>75.662651</td>\n",
       "      <td>2.811245</td>\n",
       "      <td>0.481928</td>\n",
       "      <td>0.642570</td>\n",
       "      <td>0.160643</td>\n",
       "      <td>0.240964</td>\n",
       "      <td>733</td>\n",
       "      <td>0</td>\n",
       "    </tr>\n",
       "    <tr>\n",
       "      <th>6</th>\n",
       "      <td>100005</td>\n",
       "      <td>85.195590</td>\n",
       "      <td>120.186667</td>\n",
       "      <td>0.000000</td>\n",
       "      <td>209.216667</td>\n",
       "      <td>38.500000</td>\n",
       "      <td>5</td>\n",
       "      <td>0</td>\n",
       "      <td>0</td>\n",
       "      <td>0.000000</td>\n",
       "      <td>...</td>\n",
       "      <td>1.388889</td>\n",
       "      <td>1.388889</td>\n",
       "      <td>71.296296</td>\n",
       "      <td>3.240741</td>\n",
       "      <td>0.925926</td>\n",
       "      <td>1.851852</td>\n",
       "      <td>0.000000</td>\n",
       "      <td>0.000000</td>\n",
       "      <td>149</td>\n",
       "      <td>1</td>\n",
       "    </tr>\n",
       "    <tr>\n",
       "      <th>7</th>\n",
       "      <td>100006</td>\n",
       "      <td>9.127164</td>\n",
       "      <td>93.433333</td>\n",
       "      <td>93.433333</td>\n",
       "      <td>93.433333</td>\n",
       "      <td>26.000000</td>\n",
       "      <td>1</td>\n",
       "      <td>1</td>\n",
       "      <td>0</td>\n",
       "      <td>0.000000</td>\n",
       "      <td>...</td>\n",
       "      <td>2.272727</td>\n",
       "      <td>9.090909</td>\n",
       "      <td>59.090909</td>\n",
       "      <td>4.545455</td>\n",
       "      <td>0.000000</td>\n",
       "      <td>0.000000</td>\n",
       "      <td>0.000000</td>\n",
       "      <td>0.000000</td>\n",
       "      <td>26</td>\n",
       "      <td>1</td>\n",
       "    </tr>\n",
       "    <tr>\n",
       "      <th>8</th>\n",
       "      <td>100007</td>\n",
       "      <td>115.387616</td>\n",
       "      <td>189.411111</td>\n",
       "      <td>8.900000</td>\n",
       "      <td>675.633333</td>\n",
       "      <td>47.000000</td>\n",
       "      <td>9</td>\n",
       "      <td>1</td>\n",
       "      <td>1</td>\n",
       "      <td>0.000000</td>\n",
       "      <td>...</td>\n",
       "      <td>1.730769</td>\n",
       "      <td>3.269231</td>\n",
       "      <td>81.346154</td>\n",
       "      <td>3.653846</td>\n",
       "      <td>0.576923</td>\n",
       "      <td>0.000000</td>\n",
       "      <td>0.000000</td>\n",
       "      <td>0.000000</td>\n",
       "      <td>357</td>\n",
       "      <td>1</td>\n",
       "    </tr>\n",
       "    <tr>\n",
       "      <th>9</th>\n",
       "      <td>100008</td>\n",
       "      <td>68.228565</td>\n",
       "      <td>528.252778</td>\n",
       "      <td>57.050000</td>\n",
       "      <td>2024.400000</td>\n",
       "      <td>128.666667</td>\n",
       "      <td>6</td>\n",
       "      <td>1</td>\n",
       "      <td>0</td>\n",
       "      <td>0.106383</td>\n",
       "      <td>...</td>\n",
       "      <td>3.191489</td>\n",
       "      <td>1.808511</td>\n",
       "      <td>82.127660</td>\n",
       "      <td>3.936170</td>\n",
       "      <td>0.638298</td>\n",
       "      <td>0.425532</td>\n",
       "      <td>0.000000</td>\n",
       "      <td>0.000000</td>\n",
       "      <td>623</td>\n",
       "      <td>0</td>\n",
       "    </tr>\n",
       "  </tbody>\n",
       "</table>\n",
       "<p>10 rows × 28 columns</p>\n",
       "</div>"
      ],
      "text/plain": [
       "   userId      regDay  avgSessionTime  minSessionTime  maxSessionTime  \\\n",
       "0      10   51.762650      459.747222       91.416667     1547.916667   \n",
       "1     100   64.873773      316.519048        0.000000     1019.583333   \n",
       "2  100001   44.800220      148.158333       63.000000      215.283333   \n",
       "3  100002  160.472072      201.183333        0.000000      730.466667   \n",
       "4  100003   22.748113       99.116667        3.216667      195.016667   \n",
       "5  100004  172.440081      185.986508        0.000000      940.216667   \n",
       "6  100005   85.195590      120.186667        0.000000      209.216667   \n",
       "7  100006    9.127164       93.433333       93.433333       93.433333   \n",
       "8  100007  115.387616      189.411111        8.900000      675.633333   \n",
       "9  100008   68.228565      528.252778       57.050000     2024.400000   \n",
       "\n",
       "   avgSessionSongs  sessionCount  gender  level  freqSubmitDowngrade  ...    \\\n",
       "0       112.166667             6       0      1             0.000000  ...     \n",
       "1        78.882353            35       0      1             0.031114  ...     \n",
       "2        33.250000             4       1      0             0.000000  ...     \n",
       "3        48.750000             4       1      1             0.000000  ...     \n",
       "4        25.500000             2       1      0             0.000000  ...     \n",
       "5        47.100000            21       1      1             0.160643  ...     \n",
       "6        38.500000             5       0      0             0.000000  ...     \n",
       "7        26.000000             1       1      0             0.000000  ...     \n",
       "8        47.000000             9       1      1             0.000000  ...     \n",
       "9       128.666667             6       1      0             0.106383  ...     \n",
       "\n",
       "   freqAddtoPlaylist  freqAddFriend  freqNextSong  freqThumbsUp  freqHelp  \\\n",
       "0           1.132075       1.509434     84.654088      4.654088  0.125786   \n",
       "1           1.897946       1.524580     83.447418      4.604854  0.560050   \n",
       "2           1.604278       1.069519     71.122995      4.278075  0.534759   \n",
       "3           2.293578       0.458716     89.449541      2.293578  0.000000   \n",
       "4           2.564103       0.000000     65.384615      3.846154  1.282051   \n",
       "5           1.847390       1.526104     75.662651      2.811245  0.481928   \n",
       "6           1.388889       1.388889     71.296296      3.240741  0.925926   \n",
       "7           2.272727       9.090909     59.090909      4.545455  0.000000   \n",
       "8           1.730769       3.269231     81.346154      3.653846  0.576923   \n",
       "9           3.191489       1.808511     82.127660      3.936170  0.638298   \n",
       "\n",
       "   freqUpgrade  freqError  freqSubmitUpgrade  aritstCount  churn  \n",
       "0     0.000000   0.000000           0.000000          565      0  \n",
       "1     0.031114   0.093342           0.031114         1705      0  \n",
       "2     1.069519   0.534759           0.000000          125      1  \n",
       "3     0.000000   0.000000           0.000000          184      0  \n",
       "4     0.000000   0.000000           0.000000           50      1  \n",
       "5     0.642570   0.160643           0.240964          733      0  \n",
       "6     1.851852   0.000000           0.000000          149      1  \n",
       "7     0.000000   0.000000           0.000000           26      1  \n",
       "8     0.000000   0.000000           0.000000          357      1  \n",
       "9     0.425532   0.000000           0.000000          623      0  \n",
       "\n",
       "[10 rows x 28 columns]"
      ]
     },
     "execution_count": 54,
     "metadata": {},
     "output_type": "execute_result"
    }
   ],
   "source": [
    "final_dfp = df_final.toPandas()\n",
    "final_dfp.head(10)"
   ]
  },
  {
   "cell_type": "code",
   "execution_count": 55,
   "metadata": {},
   "outputs": [],
   "source": [
    "final_dfp.to_csv('saved_user_dataset_pd.CSV', index=False)"
   ]
  },
  {
   "cell_type": "code",
   "execution_count": null,
   "metadata": {},
   "outputs": [],
   "source": []
  },
  {
   "cell_type": "markdown",
   "metadata": {},
   "source": [
    "# Modeling\n",
    "Split the full dataset into train, test, and validation sets. Test out several of the machine learning methods you learned. Evaluate the accuracy of the various models, tuning parameters as necessary. Determine your winning model based on test accuracy and report results on the validation set. Since the churned users are a fairly small subset, I suggest using F1 score as the metric to optimize."
   ]
  },
  {
   "cell_type": "markdown",
   "metadata": {},
   "source": [
    "Loading and adjusting data"
   ]
  },
  {
   "cell_type": "code",
   "execution_count": 56,
   "metadata": {},
   "outputs": [
    {
     "data": {
      "text/html": [
       "<div>\n",
       "<style scoped>\n",
       "    .dataframe tbody tr th:only-of-type {\n",
       "        vertical-align: middle;\n",
       "    }\n",
       "\n",
       "    .dataframe tbody tr th {\n",
       "        vertical-align: top;\n",
       "    }\n",
       "\n",
       "    .dataframe thead th {\n",
       "        text-align: right;\n",
       "    }\n",
       "</style>\n",
       "<table border=\"1\" class=\"dataframe\">\n",
       "  <thead>\n",
       "    <tr style=\"text-align: right;\">\n",
       "      <th></th>\n",
       "      <th>userId</th>\n",
       "      <th>regDay</th>\n",
       "      <th>avgSessionTime</th>\n",
       "      <th>minSessionTime</th>\n",
       "      <th>maxSessionTime</th>\n",
       "      <th>avgSessionSongs</th>\n",
       "      <th>sessionCount</th>\n",
       "      <th>gender</th>\n",
       "      <th>level</th>\n",
       "      <th>freqSubmitDowngrade</th>\n",
       "      <th>...</th>\n",
       "      <th>freqAddtoPlaylist</th>\n",
       "      <th>freqAddFriend</th>\n",
       "      <th>freqNextSong</th>\n",
       "      <th>freqThumbsUp</th>\n",
       "      <th>freqHelp</th>\n",
       "      <th>freqUpgrade</th>\n",
       "      <th>freqError</th>\n",
       "      <th>freqSubmitUpgrade</th>\n",
       "      <th>aritstCount</th>\n",
       "      <th>churn</th>\n",
       "    </tr>\n",
       "  </thead>\n",
       "  <tbody>\n",
       "    <tr>\n",
       "      <th>0</th>\n",
       "      <td>30</td>\n",
       "      <td>63.06664351851852</td>\n",
       "      <td>183.5942708333333</td>\n",
       "      <td>0.0</td>\n",
       "      <td>1089.0333333333333</td>\n",
       "      <td>50.607142857142854</td>\n",
       "      <td>32</td>\n",
       "      <td>0</td>\n",
       "      <td>1</td>\n",
       "      <td>0.056338028169014086</td>\n",
       "      <td>...</td>\n",
       "      <td>2.647887323943662</td>\n",
       "      <td>1.408450704225352</td>\n",
       "      <td>79.83098591549296</td>\n",
       "      <td>3.492957746478873</td>\n",
       "      <td>0.28169014084507044</td>\n",
       "      <td>0.7887323943661971</td>\n",
       "      <td>0.056338028169014086</td>\n",
       "      <td>0.056338028169014086</td>\n",
       "      <td>1018</td>\n",
       "      <td>0</td>\n",
       "    </tr>\n",
       "    <tr>\n",
       "      <th>1</th>\n",
       "      <td>300001</td>\n",
       "      <td>188.3117824074074</td>\n",
       "      <td>382.05263157894734</td>\n",
       "      <td>0.0</td>\n",
       "      <td>1418.25</td>\n",
       "      <td>102.88235294117646</td>\n",
       "      <td>19</td>\n",
       "      <td>1</td>\n",
       "      <td>1</td>\n",
       "      <td>0.0</td>\n",
       "      <td>...</td>\n",
       "      <td>3.1826568265682655</td>\n",
       "      <td>1.3837638376383763</td>\n",
       "      <td>80.67343173431735</td>\n",
       "      <td>6.826568265682657</td>\n",
       "      <td>0.507380073800738</td>\n",
       "      <td>0.09225092250922509</td>\n",
       "      <td>0.13837638376383765</td>\n",
       "      <td>0.046125461254612546</td>\n",
       "      <td>1201</td>\n",
       "      <td>1</td>\n",
       "    </tr>\n",
       "    <tr>\n",
       "      <th>2</th>\n",
       "      <td>200008</td>\n",
       "      <td>115.18381944444444</td>\n",
       "      <td>452.27555555555557</td>\n",
       "      <td>17.183333333333334</td>\n",
       "      <td>1206.3833333333334</td>\n",
       "      <td>111.26666666666667</td>\n",
       "      <td>15</td>\n",
       "      <td>1</td>\n",
       "      <td>1</td>\n",
       "      <td>0.0</td>\n",
       "      <td>...</td>\n",
       "      <td>2.2365805168986084</td>\n",
       "      <td>1.341948310139165</td>\n",
       "      <td>82.95228628230616</td>\n",
       "      <td>3.379721669980119</td>\n",
       "      <td>0.19880715705765406</td>\n",
       "      <td>0.049701789264413515</td>\n",
       "      <td>0.14910536779324055</td>\n",
       "      <td>0.049701789264413515</td>\n",
       "      <td>1159</td>\n",
       "      <td>0</td>\n",
       "    </tr>\n",
       "    <tr>\n",
       "      <th>3</th>\n",
       "      <td>200009</td>\n",
       "      <td>58.83949074074074</td>\n",
       "      <td>267.12111111111113</td>\n",
       "      <td>0.0</td>\n",
       "      <td>783.65</td>\n",
       "      <td>64.2</td>\n",
       "      <td>15</td>\n",
       "      <td>0</td>\n",
       "      <td>0</td>\n",
       "      <td>0.08347245409015025</td>\n",
       "      <td>...</td>\n",
       "      <td>2.2537562604340566</td>\n",
       "      <td>1.669449081803005</td>\n",
       "      <td>80.38397328881469</td>\n",
       "      <td>3.4223706176961604</td>\n",
       "      <td>0.5843071786310517</td>\n",
       "      <td>0.08347245409015025</td>\n",
       "      <td>0.0</td>\n",
       "      <td>0.08347245409015025</td>\n",
       "      <td>746</td>\n",
       "      <td>0</td>\n",
       "    </tr>\n",
       "    <tr>\n",
       "      <th>4</th>\n",
       "      <td>10</td>\n",
       "      <td>51.76265046296297</td>\n",
       "      <td>459.74722222222226</td>\n",
       "      <td>91.41666666666667</td>\n",
       "      <td>1547.9166666666667</td>\n",
       "      <td>112.16666666666667</td>\n",
       "      <td>6</td>\n",
       "      <td>0</td>\n",
       "      <td>1</td>\n",
       "      <td>0.0</td>\n",
       "      <td>...</td>\n",
       "      <td>1.1320754716981132</td>\n",
       "      <td>1.5094339622641508</td>\n",
       "      <td>84.65408805031447</td>\n",
       "      <td>4.654088050314465</td>\n",
       "      <td>0.12578616352201258</td>\n",
       "      <td>0.0</td>\n",
       "      <td>0.0</td>\n",
       "      <td>0.0</td>\n",
       "      <td>565</td>\n",
       "      <td>0</td>\n",
       "    </tr>\n",
       "  </tbody>\n",
       "</table>\n",
       "<p>5 rows × 28 columns</p>\n",
       "</div>"
      ],
      "text/plain": [
       "   userId              regDay      avgSessionTime      minSessionTime  \\\n",
       "0      30   63.06664351851852   183.5942708333333                 0.0   \n",
       "1  300001   188.3117824074074  382.05263157894734                 0.0   \n",
       "2  200008  115.18381944444444  452.27555555555557  17.183333333333334   \n",
       "3  200009   58.83949074074074  267.12111111111113                 0.0   \n",
       "4      10   51.76265046296297  459.74722222222226   91.41666666666667   \n",
       "\n",
       "       maxSessionTime     avgSessionSongs sessionCount gender level  \\\n",
       "0  1089.0333333333333  50.607142857142854           32      0     1   \n",
       "1             1418.25  102.88235294117646           19      1     1   \n",
       "2  1206.3833333333334  111.26666666666667           15      1     1   \n",
       "3              783.65                64.2           15      0     0   \n",
       "4  1547.9166666666667  112.16666666666667            6      0     1   \n",
       "\n",
       "    freqSubmitDowngrade  ...    freqAddtoPlaylist       freqAddFriend  \\\n",
       "0  0.056338028169014086  ...    2.647887323943662   1.408450704225352   \n",
       "1                   0.0  ...   3.1826568265682655  1.3837638376383763   \n",
       "2                   0.0  ...   2.2365805168986084   1.341948310139165   \n",
       "3   0.08347245409015025  ...   2.2537562604340566   1.669449081803005   \n",
       "4                   0.0  ...   1.1320754716981132  1.5094339622641508   \n",
       "\n",
       "        freqNextSong        freqThumbsUp             freqHelp  \\\n",
       "0  79.83098591549296   3.492957746478873  0.28169014084507044   \n",
       "1  80.67343173431735   6.826568265682657    0.507380073800738   \n",
       "2  82.95228628230616   3.379721669980119  0.19880715705765406   \n",
       "3  80.38397328881469  3.4223706176961604   0.5843071786310517   \n",
       "4  84.65408805031447   4.654088050314465  0.12578616352201258   \n",
       "\n",
       "            freqUpgrade             freqError     freqSubmitUpgrade  \\\n",
       "0    0.7887323943661971  0.056338028169014086  0.056338028169014086   \n",
       "1   0.09225092250922509   0.13837638376383765  0.046125461254612546   \n",
       "2  0.049701789264413515   0.14910536779324055  0.049701789264413515   \n",
       "3   0.08347245409015025                   0.0   0.08347245409015025   \n",
       "4                   0.0                   0.0                   0.0   \n",
       "\n",
       "  aritstCount churn  \n",
       "0        1018     0  \n",
       "1        1201     1  \n",
       "2        1159     0  \n",
       "3         746     0  \n",
       "4         565     0  \n",
       "\n",
       "[5 rows x 28 columns]"
      ]
     },
     "execution_count": 56,
     "metadata": {},
     "output_type": "execute_result"
    }
   ],
   "source": [
    "final_df = spark.read.csv('saved_user_dataset.CSV', header = True)\n",
    "pfinal_df = final_df.toPandas()\n",
    "pfinal_df.head()"
   ]
  },
  {
   "cell_type": "code",
   "execution_count": 57,
   "metadata": {},
   "outputs": [
    {
     "data": {
      "text/plain": [
       "DataFrame[userId: string, regDay: string, avgSessionTime: string, minSessionTime: string, maxSessionTime: string, avgSessionSongs: string, sessionCount: string, gender: string, level: string, freqSubmitDowngrade: string, freqThumbsDown: string, freqHome: string, freqDowngrade: string, freqRollAdvert: string, freqLogout: string, freqSaveSettings: string, freqAbout: string, freqSettings: string, freqAddtoPlaylist: string, freqAddFriend: string, freqNextSong: string, freqThumbsUp: string, freqHelp: string, freqUpgrade: string, freqError: string, freqSubmitUpgrade: string, aritstCount: string, churn: string]"
      ]
     },
     "execution_count": 57,
     "metadata": {},
     "output_type": "execute_result"
    }
   ],
   "source": [
    "final_df.persist()"
   ]
  },
  {
   "cell_type": "code",
   "execution_count": 58,
   "metadata": {},
   "outputs": [
    {
     "name": "stdout",
     "output_type": "stream",
     "text": [
      "root\n",
      " |-- userId: string (nullable = true)\n",
      " |-- regDay: string (nullable = true)\n",
      " |-- avgSessionTime: string (nullable = true)\n",
      " |-- minSessionTime: string (nullable = true)\n",
      " |-- maxSessionTime: string (nullable = true)\n",
      " |-- avgSessionSongs: string (nullable = true)\n",
      " |-- sessionCount: string (nullable = true)\n",
      " |-- gender: string (nullable = true)\n",
      " |-- level: string (nullable = true)\n",
      " |-- freqSubmitDowngrade: string (nullable = true)\n",
      " |-- freqThumbsDown: string (nullable = true)\n",
      " |-- freqHome: string (nullable = true)\n",
      " |-- freqDowngrade: string (nullable = true)\n",
      " |-- freqRollAdvert: string (nullable = true)\n",
      " |-- freqLogout: string (nullable = true)\n",
      " |-- freqSaveSettings: string (nullable = true)\n",
      " |-- freqAbout: string (nullable = true)\n",
      " |-- freqSettings: string (nullable = true)\n",
      " |-- freqAddtoPlaylist: string (nullable = true)\n",
      " |-- freqAddFriend: string (nullable = true)\n",
      " |-- freqNextSong: string (nullable = true)\n",
      " |-- freqThumbsUp: string (nullable = true)\n",
      " |-- freqHelp: string (nullable = true)\n",
      " |-- freqUpgrade: string (nullable = true)\n",
      " |-- freqError: string (nullable = true)\n",
      " |-- freqSubmitUpgrade: string (nullable = true)\n",
      " |-- aritstCount: string (nullable = true)\n",
      " |-- churn: string (nullable = true)\n",
      "\n"
     ]
    }
   ],
   "source": [
    "final_df.printSchema()"
   ]
  },
  {
   "cell_type": "code",
   "execution_count": 59,
   "metadata": {},
   "outputs": [
    {
     "name": "stdout",
     "output_type": "stream",
     "text": [
      "['userId', 'regDay', 'avgSessionTime', 'minSessionTime', 'maxSessionTime', 'avgSessionSongs', 'sessionCount', 'gender', 'level', 'freqSubmitDowngrade', 'freqThumbsDown', 'freqHome', 'freqDowngrade', 'freqRollAdvert', 'freqLogout', 'freqSaveSettings', 'freqAbout', 'freqSettings', 'freqAddtoPlaylist', 'freqAddFriend', 'freqNextSong', 'freqThumbsUp', 'freqHelp', 'freqUpgrade', 'freqError', 'freqSubmitUpgrade', 'aritstCount', 'churn']\n"
     ]
    }
   ],
   "source": [
    "# Change the column names to strings without spaces\n",
    "for col in final_df.columns:\n",
    "    final_df = final_df.withColumnRenamed(col, col.replace(' ', '_').replace('.', ''))\n",
    "print(final_df.columns)"
   ]
  },
  {
   "cell_type": "code",
   "execution_count": 60,
   "metadata": {},
   "outputs": [
    {
     "name": "stdout",
     "output_type": "stream",
     "text": [
      "root\n",
      " |-- userId: integer (nullable = true)\n",
      " |-- regDay: float (nullable = true)\n",
      " |-- avgSessionTime: float (nullable = true)\n",
      " |-- minSessionTime: float (nullable = true)\n",
      " |-- maxSessionTime: float (nullable = true)\n",
      " |-- avgSessionSongs: float (nullable = true)\n",
      " |-- sessionCount: float (nullable = true)\n",
      " |-- gender: float (nullable = true)\n",
      " |-- level: float (nullable = true)\n",
      " |-- freqSubmitDowngrade: float (nullable = true)\n",
      " |-- freqThumbsDown: float (nullable = true)\n",
      " |-- freqHome: float (nullable = true)\n",
      " |-- freqDowngrade: float (nullable = true)\n",
      " |-- freqRollAdvert: float (nullable = true)\n",
      " |-- freqLogout: float (nullable = true)\n",
      " |-- freqSaveSettings: float (nullable = true)\n",
      " |-- freqAbout: float (nullable = true)\n",
      " |-- freqSettings: float (nullable = true)\n",
      " |-- freqAddtoPlaylist: float (nullable = true)\n",
      " |-- freqAddFriend: float (nullable = true)\n",
      " |-- freqNextSong: float (nullable = true)\n",
      " |-- freqThumbsUp: float (nullable = true)\n",
      " |-- freqHelp: float (nullable = true)\n",
      " |-- freqUpgrade: float (nullable = true)\n",
      " |-- freqError: float (nullable = true)\n",
      " |-- freqSubmitUpgrade: float (nullable = true)\n",
      " |-- aritstCount: float (nullable = true)\n",
      " |-- churn: float (nullable = true)\n",
      "\n"
     ]
    }
   ],
   "source": [
    "# Convert all to numbers as the schema shows strings\n",
    "# the first column (userId) would be integer\n",
    "final_df = final_df.withColumn('userId', final_df.userId.cast(IntegerType()))\n",
    "\n",
    "# All other columns should be float\n",
    "for col in final_df.columns[1:]:\n",
    "    final_df = final_df.withColumn(col, final_df[col].cast(FloatType()))\n",
    "\n",
    "final_df.printSchema()"
   ]
  },
  {
   "cell_type": "code",
   "execution_count": 61,
   "metadata": {},
   "outputs": [
    {
     "name": "stdout",
     "output_type": "stream",
     "text": [
      "root\n",
      " |-- userId: integer (nullable = true)\n",
      " |-- regDay: float (nullable = true)\n",
      " |-- avgSessionTime: float (nullable = true)\n",
      " |-- minSessionTime: float (nullable = true)\n",
      " |-- maxSessionTime: float (nullable = true)\n",
      " |-- avgSessionSongs: float (nullable = true)\n",
      " |-- sessionCount: float (nullable = true)\n",
      " |-- gender: float (nullable = true)\n",
      " |-- level: float (nullable = true)\n",
      " |-- freqSubmitDowngrade: float (nullable = true)\n",
      " |-- freqThumbsDown: float (nullable = true)\n",
      " |-- freqHome: float (nullable = true)\n",
      " |-- freqDowngrade: float (nullable = true)\n",
      " |-- freqRollAdvert: float (nullable = true)\n",
      " |-- freqLogout: float (nullable = true)\n",
      " |-- freqSaveSettings: float (nullable = true)\n",
      " |-- freqAbout: float (nullable = true)\n",
      " |-- freqSettings: float (nullable = true)\n",
      " |-- freqAddtoPlaylist: float (nullable = true)\n",
      " |-- freqAddFriend: float (nullable = true)\n",
      " |-- freqNextSong: float (nullable = true)\n",
      " |-- freqThumbsUp: float (nullable = true)\n",
      " |-- freqHelp: float (nullable = true)\n",
      " |-- freqUpgrade: float (nullable = true)\n",
      " |-- freqError: float (nullable = true)\n",
      " |-- freqSubmitUpgrade: float (nullable = true)\n",
      " |-- aritstCount: float (nullable = true)\n",
      " |-- churn: float (nullable = true)\n",
      "\n"
     ]
    }
   ],
   "source": [
    "num_features_list = df_final.columns[1:]\n",
    "for f in num_features_list:\n",
    "    f_name = f + \"Num\"\n",
    "    df_final = df_final.withColumn(f_name, df_final[f].cast(\"float\"))\n",
    "    df_final = df_final.drop(f)\n",
    "\n",
    "final_df.printSchema()"
   ]
  },
  {
   "cell_type": "code",
   "execution_count": 62,
   "metadata": {},
   "outputs": [],
   "source": [
    "# Remove  nulls from anywhere replacing them by zeros\n",
    "final_df = final_df.na.fill(0)"
   ]
  },
  {
   "cell_type": "code",
   "execution_count": 63,
   "metadata": {},
   "outputs": [],
   "source": [
    "# Get features labels for plotting purposes\n",
    "features_labels = final_df.columns[1:-1]"
   ]
  },
  {
   "cell_type": "code",
   "execution_count": 64,
   "metadata": {},
   "outputs": [],
   "source": [
    "# The input features are all but the userId and the Churn\n",
    "# The output is Churn only\n",
    "\n",
    "# Define the vector assembler for all input columns\n",
    "features_vector = VectorAssembler(inputCols=final_df.columns[1:-1], outputCol='features')\n",
    "\n",
    "# Apply the vectorization on the dataset\n",
    "input_data = features_vector.transform(final_df)\n",
    "# input_data.show(1)"
   ]
  },
  {
   "cell_type": "code",
   "execution_count": 65,
   "metadata": {},
   "outputs": [],
   "source": [
    "features_scaler = StandardScaler(withMean=True, withStd=True, inputCol='features', outputCol='scaled_features')\n",
    "features_scaler_fit = features_scaler.fit(input_data)\n",
    "scaled_inputs = features_scaler_fit.transform(input_data)"
   ]
  },
  {
   "cell_type": "code",
   "execution_count": 66,
   "metadata": {},
   "outputs": [],
   "source": [
    "# Select the output and input features\n",
    "ml_data = scaled_inputs.select(scaled_inputs.churn.alias('label'), scaled_inputs.scaled_features.alias('features'))"
   ]
  },
  {
   "cell_type": "code",
   "execution_count": 67,
   "metadata": {},
   "outputs": [
    {
     "name": "stdout",
     "output_type": "stream",
     "text": [
      "+-----+--------------------+\n",
      "|label|            features|\n",
      "+-----+--------------------+\n",
      "|  0.0|[-1.3934804265523...|\n",
      "|  0.0|[-1.2959147430091...|\n",
      "|  0.0|[-0.7456701449130...|\n",
      "+-----+--------------------+\n",
      "only showing top 3 rows\n",
      "\n",
      "+-----+--------------------+\n",
      "|label|            features|\n",
      "+-----+--------------------+\n",
      "|  0.0|[-0.5577635283439...|\n",
      "|  0.0|[-0.3380652949508...|\n",
      "|  0.0|[-0.3084617257473...|\n",
      "+-----+--------------------+\n",
      "only showing top 3 rows\n",
      "\n"
     ]
    },
    {
     "data": {
      "text/plain": [
       "(None, None)"
      ]
     },
     "execution_count": 67,
     "metadata": {},
     "output_type": "execute_result"
    }
   ],
   "source": [
    "# Defining training and testing samples\n",
    "train, test = ml_data.randomSplit([0.80, 0.20], seed=179)\n",
    "\n",
    "train.show(3), test.show(3)"
   ]
  },
  {
   "cell_type": "markdown",
   "metadata": {},
   "source": [
    "Defining important functions for outputs and alalysis"
   ]
  },
  {
   "cell_type": "code",
   "execution_count": 68,
   "metadata": {},
   "outputs": [],
   "source": [
    "def format_duration (t_dif):\n",
    "    t_s = t_dif.seconds\n",
    "    duration = {}\n",
    "    duration['h'], rem = divmod(t_s, 3600) \n",
    "    duration['m'], duration['s'] = divmod(rem, 60)\n",
    "    stamp = ''\n",
    "    if duration['h']>0:\n",
    "        stamp += f\"{duration['h']} hour(s), \" \n",
    "    if duration['m']>0:\n",
    "        stamp += f\"{duration['m']} minute(s) and \"\n",
    "    # seconds and fraction of seconds\n",
    "    frac = int(t_dif.microseconds/10000)/100\n",
    "    stamp += f\"{duration['s'] + frac} second(s)\"\n",
    "    # print(f\"{duration['h']}h:{duration['m']}m:{duration['s']}s\")\n",
    "    return stamp"
   ]
  },
  {
   "cell_type": "code",
   "execution_count": 69,
   "metadata": {},
   "outputs": [],
   "source": [
    "def model_fitting(data, model_type, param_grid, save_as, num_folds=3, random_seed=179):\n",
    "    '''\n",
    "    Train the any model with passing there parameter and save the model with model name.\n",
    "    \n",
    "    '''\n",
    "    model_evaluator = CrossValidator(estimator=model_type, estimatorParamMaps=param_grid,\n",
    "                                      evaluator=MulticlassClassificationEvaluator(),\n",
    "                                      numFolds=num_folds, seed=random_seed)\n",
    "    t_start = pd.tslib.Timestamp.now()\n",
    "    print ('Fitting in progress...', end=' ')\n",
    "    fitted_model = model_evaluator.fit(data)\n",
    "    t_dif = pd.tslib.Timestamp.now() - t_start\n",
    "    print (f'Done in {format_duration(t_dif)}')\n",
    "    t_start = pd.tslib.Timestamp.now()\n",
    "    print (f'\\nSaving the model as {save_as}...' , end=' ')\n",
    "    try:\n",
    "        fitted_model.save(save_as)\n",
    "    except:\n",
    "        # Overwrite if exists\n",
    "        fitted_model.write().overwrite().save(save_as)\n",
    "        print ('*Overwritten* ', end='')\n",
    "    t_dif = pd.tslib.Timestamp.now() - t_start\n",
    "    print (f'Done in {format_duration(t_dif)}')\n",
    "    return fitted_model"
   ]
  },
  {
   "cell_type": "code",
   "execution_count": 70,
   "metadata": {},
   "outputs": [],
   "source": [
    "def get_formated_metrics(selected_model, test_data):\n",
    "    '''\n",
    "    Prints a compacted dataframe with all the model's metrics\n",
    "    selected_model: The fitted model\n",
    "    test_data: the test data portion\n",
    "    '''\n",
    "    def get_model_metrics(selected_model, model_type = 'train'):\n",
    "        '''\n",
    "        Get the metrics of a model\n",
    "        selected_model:  the fitted model\n",
    "        model_type: either 'train' (default) or 'test'\n",
    "        '''\n",
    "        if model_type == 'train':\n",
    "            metrics = selected_model.bestModel.summary\n",
    "        else: \n",
    "            metrics = selected_model\n",
    "        acc = metrics.accuracy, \n",
    "        general = np.array((metrics.weightedFMeasure(),\n",
    "                   metrics.weightedPrecision, metrics.weightedRecall,\n",
    "                   metrics.weightedTruePositiveRate, metrics.weightedFalsePositiveRate))\n",
    "        general = general.reshape(1, general.shape[0])\n",
    "        labels = ['General'] + [f'Churn={x}' for x in metrics.labels]\n",
    "        labeled = np.array((metrics.fMeasureByLabel(),\n",
    "                          metrics.precisionByLabel, metrics.recallByLabel,\n",
    "                          metrics.truePositiveRateByLabel, metrics.falsePositiveRateByLabel))\n",
    "        conc_results = np.concatenate((general.T, labeled), axis=1)\n",
    "        metrics_names = ['F-Measure', 'Precision', 'Recall', 'True_+ve_Rate', 'False_+ve_Rate']\n",
    "        df_res = pd.DataFrame(conc_results, columns=labels, index=metrics_names)\n",
    "        return acc[0], df_res\n",
    "    \n",
    "    # Apply for training data\n",
    "    acc_train, train_res = get_model_metrics(selected_model)\n",
    "    # Get the results of the test data\n",
    "    model_test = selected_model.bestModel.evaluate(test_data)\n",
    "    # Apply on test data\n",
    "    acc_test, test_res = get_model_metrics(model_test, model_type='test')\n",
    "    \n",
    "    # Concatenate to a pretty dataframe\n",
    "    pretty_frame = pd.concat([train_res, test_res], axis=1, keys=[\n",
    "                    f'Training (Accuracy = {acc_train*100:4.2f}%)',\n",
    "                    f'Testing (Accuracy = {acc_test*100:4.2f}%)'])\n",
    "    return pretty_frame"
   ]
  },
  {
   "cell_type": "code",
   "execution_count": 71,
   "metadata": {},
   "outputs": [],
   "source": [
    "def draw_features_contribution(fitted_model, x_labels, scale_to='full_range'):\n",
    "    '''\n",
    "    Draws a bar chart of features vs churn %\n",
    "    fitted_model: the fitted model\n",
    "    scale_to: the values will be scated to:\n",
    "           'full_range' where the full absolute values are summed to 100.\n",
    "           'maximum_range' where the maximum absolute extremes are scalled to 100.\n",
    "           'none' the values are shown as is.\n",
    "    '''\n",
    "    cmx = fitted_model.bestModel.coefficientMatrix\n",
    "    cmv = cmx.values\n",
    "    # cmv.shape, len(final_df.columns[2:])\n",
    "    \n",
    "    # Define positive and negative values\n",
    "    positives_v = np.array([x if x>=0 else 0 for x in cmv])\n",
    "    negatives_v = np.array([x if x<=0 else 0 for x in cmv])    \n",
    "    \n",
    "    # Drawing by scalling the maximum range to  100\n",
    "    if scale_to == 'full_range':\n",
    "        rang = positives_v.sum()+ abs(negatives_v).sum()\n",
    "    elif scale_to == 'maximum_range':\n",
    "        rang = positives_v.max()+ abs(negatives_v).max()\n",
    "    else:\n",
    "        rang = 1.\n",
    "        \n",
    "    positives_v /= rang\n",
    "    negatives_v /= rang\n",
    "    positives_v *= 100.\n",
    "    negatives_v *= 100.\n",
    "    fig, ax = plt.subplots(figsize=(16, 9))\n",
    "    ax.bar(x_labels, positives_v,color='r')\n",
    "    ax.bar(x_labels, negatives_v, color='g')\n",
    "    ax.set_xlabel('Features')\n",
    "    ax.set_ylabel('The user is most likely to churn (%)')\n",
    "    ax.set_title('Contribution of each feature to the churn decission')\n",
    "    ax.set_xticklabels(labels = final_df.columns[2:], rotation='vertical');\n"
   ]
  },
  {
   "cell_type": "code",
   "execution_count": 72,
   "metadata": {},
   "outputs": [],
   "source": [
    "def get_classifier_metrics(trained_model, train_data, test_data):\n",
    "    '''\n",
    "    \n",
    "    '''\n",
    "    def get_specific_metrics(trained_model, data):\n",
    "        '''\n",
    "        \n",
    "        '''\n",
    "        res2 = trained_model.transform(data).select('label', 'prediction')\n",
    "        TruePos = res2.filter((res2.prediction==1)& (res2.label == res2.prediction) ).count()\n",
    "        TrueNeg = res2.filter((res2.prediction==0)& (res2.label == res2.prediction) ).count()\n",
    "        FalsPos = res2.filter((res2.prediction==1)& (res2.label != res2.prediction) ).count()\n",
    "        FalsNeg = res2.filter((res2.prediction==0)& (res2.label != res2.prediction) ).count()\n",
    "        accuracy = res2.filter(res2.label == res2.prediction).count()/res2.count()\n",
    "        precision = TruePos/(TruePos+FalsPos)\n",
    "        recall = TruePos/(TruePos+FalsNeg)\n",
    "        f1score = 2 * precision * recall / (precision + recall)\n",
    "        return accuracy, precision, recall, f1score\n",
    "    train_metrics = get_specific_metrics(trained_model, train_data)\n",
    "    test_metrics = get_specific_metrics(trained_model, test_data)\n",
    "    labels =['Train', 'Test']\n",
    "    metrics_names = ['Accuracy', 'Precision', 'Recall', 'F-Score']\n",
    "    metrics_data =np.array((train_metrics, test_metrics))\n",
    "    return pd.DataFrame(data=metrics_data.T, columns=labels, index=metrics_names)\n"
   ]
  },
  {
   "cell_type": "code",
   "execution_count": 73,
   "metadata": {},
   "outputs": [],
   "source": [
    "def draw_features_importance(fitted_model, x_labels, threshold=0.1):\n",
    "    '''\n",
    "    Draws a pie chart of features\n",
    "    fitted_model: the fitted model\n",
    "    x_labels: the labels of the features.\n",
    "    threshold: the minimum value (%) to consider, \n",
    "               if the value is less than that, \n",
    "               it will be neglected (default =0)\n",
    "    '''\n",
    "    importance = list(fitted_model.bestModel.featureImportances.toArray())\n",
    "    # Get the threshold value\n",
    "    thres_v = threshold / 100 \n",
    "    # get the included and neglected values\n",
    "    active_values = [x for x in importance if x >= thres_v]\n",
    "    neglected = [x for x in importance if x < thres_v]\n",
    "    non_zero_neglected = [x for x in neglected if x > 0]\n",
    "    # print(importance, '\\n', x_labels, '\\n', thres_v, '\\n', \n",
    "    #       active_values, '\\n', neglected, '\\n', non_zero_neglected)\n",
    "    # get the accepted indexes\n",
    "    active_idx = [importance.index(x) for x in active_values]\n",
    "    # the accepted lables + minor features\n",
    "    active_labels = [x_labels[x] for x in active_idx]\n",
    "    minor_v = sum(neglected)\n",
    "    # print(active_idx, '\\n', active_labels, '\\n', minor_v)\n",
    "    # If there is any minor features\n",
    "    if minor_v>0:\n",
    "        active_values.append(minor_v)\n",
    "        active_labels.append(f'MINOR, ({len( \\\n",
    "                non_zero_neglected)}feats. each<{threshold}%)')\n",
    "    # print(active_labels, '\\n', active_values)\n",
    "    \n",
    "    # sorting\n",
    "    active_labels =[x for _, x in sorted(zip(active_values, active_labels))]\n",
    "    active_values = sorted(active_values)\n",
    "    \n",
    "    # Draw\n",
    "\n",
    "    fig, ax = plt.subplots(figsize=(16, 9))\n",
    "    ax.pie(active_values[::-1], labels=active_labels[::-1] , \n",
    "           autopct='%1.1f%%', shadow=True, \n",
    "           startangle=90 )\n",
    "    ax.set_title('Importance of each feature to the churn decission')\n",
    "    ax.axis('equal');\n",
    "\n"
   ]
  },
  {
   "cell_type": "code",
   "execution_count": 74,
   "metadata": {},
   "outputs": [
    {
     "name": "stderr",
     "output_type": "stream",
     "text": [
      "/opt/conda/lib/python3.6/site-packages/ipykernel_launcher.py:9: FutureWarning: pandas.tslib is deprecated and will be removed in a future version.\n",
      "You can access Timestamp as pandas.Timestamp\n",
      "  if __name__ == '__main__':\n"
     ]
    },
    {
     "name": "stdout",
     "output_type": "stream",
     "text": [
      "Fitting in progress... Done in 2 minute(s) and 6.3 second(s)\n",
      "\n",
      "Saving the model as LogisticRegression.model... Done in 1.51 second(s)\n"
     ]
    },
    {
     "data": {
      "text/html": [
       "<div>\n",
       "<style scoped>\n",
       "    .dataframe tbody tr th:only-of-type {\n",
       "        vertical-align: middle;\n",
       "    }\n",
       "\n",
       "    .dataframe tbody tr th {\n",
       "        vertical-align: top;\n",
       "    }\n",
       "\n",
       "    .dataframe thead tr th {\n",
       "        text-align: left;\n",
       "    }\n",
       "</style>\n",
       "<table border=\"1\" class=\"dataframe\">\n",
       "  <thead>\n",
       "    <tr>\n",
       "      <th></th>\n",
       "      <th colspan=\"3\" halign=\"left\">Training (Accuracy = 88.14%)</th>\n",
       "      <th colspan=\"3\" halign=\"left\">Testing (Accuracy = 75.00%)</th>\n",
       "    </tr>\n",
       "    <tr>\n",
       "      <th></th>\n",
       "      <th>General</th>\n",
       "      <th>Churn=0.0</th>\n",
       "      <th>Churn=1.0</th>\n",
       "      <th>General</th>\n",
       "      <th>Churn=0.0</th>\n",
       "      <th>Churn=1.0</th>\n",
       "    </tr>\n",
       "  </thead>\n",
       "  <tbody>\n",
       "    <tr>\n",
       "      <th>F-Measure</th>\n",
       "      <td>0.868265</td>\n",
       "      <td>0.928328</td>\n",
       "      <td>0.655738</td>\n",
       "      <td>0.722368</td>\n",
       "      <td>0.842105</td>\n",
       "      <td>0.400000</td>\n",
       "    </tr>\n",
       "    <tr>\n",
       "      <th>Precision</th>\n",
       "      <td>0.884398</td>\n",
       "      <td>0.877419</td>\n",
       "      <td>0.909091</td>\n",
       "      <td>0.723868</td>\n",
       "      <td>0.780488</td>\n",
       "      <td>0.571429</td>\n",
       "    </tr>\n",
       "    <tr>\n",
       "      <th>Recall</th>\n",
       "      <td>0.881356</td>\n",
       "      <td>0.985507</td>\n",
       "      <td>0.512821</td>\n",
       "      <td>0.750000</td>\n",
       "      <td>0.914286</td>\n",
       "      <td>0.307692</td>\n",
       "    </tr>\n",
       "    <tr>\n",
       "      <th>True_+ve_Rate</th>\n",
       "      <td>0.881356</td>\n",
       "      <td>0.985507</td>\n",
       "      <td>0.512821</td>\n",
       "      <td>0.750000</td>\n",
       "      <td>0.914286</td>\n",
       "      <td>0.307692</td>\n",
       "    </tr>\n",
       "    <tr>\n",
       "      <th>False_+ve_Rate</th>\n",
       "      <td>0.383028</td>\n",
       "      <td>0.487179</td>\n",
       "      <td>0.014493</td>\n",
       "      <td>0.528022</td>\n",
       "      <td>0.692308</td>\n",
       "      <td>0.085714</td>\n",
       "    </tr>\n",
       "  </tbody>\n",
       "</table>\n",
       "</div>"
      ],
      "text/plain": [
       "               Training (Accuracy = 88.14%)                      \\\n",
       "                                    General Churn=0.0 Churn=1.0   \n",
       "F-Measure                          0.868265  0.928328  0.655738   \n",
       "Precision                          0.884398  0.877419  0.909091   \n",
       "Recall                             0.881356  0.985507  0.512821   \n",
       "True_+ve_Rate                      0.881356  0.985507  0.512821   \n",
       "False_+ve_Rate                     0.383028  0.487179  0.014493   \n",
       "\n",
       "               Testing (Accuracy = 75.00%)                      \n",
       "                                   General Churn=0.0 Churn=1.0  \n",
       "F-Measure                         0.722368  0.842105  0.400000  \n",
       "Precision                         0.723868  0.780488  0.571429  \n",
       "Recall                            0.750000  0.914286  0.307692  \n",
       "True_+ve_Rate                     0.750000  0.914286  0.307692  \n",
       "False_+ve_Rate                    0.528022  0.692308  0.085714  "
      ]
     },
     "metadata": {},
     "output_type": "display_data"
    },
    {
     "data": {
      "image/png": "[encoded data removed]",
      "text/plain": [
       "<matplotlib.figure.Figure at 0x7f849bd71550>"
      ]
     },
     "metadata": {
      "needs_background": "light"
     },
     "output_type": "display_data"
    }
   ],
   "source": [
    "# The Logistic Regression model\n",
    "\n",
    "model = LogisticRegression()\n",
    "param_grid = ParamGridBuilder() \\\n",
    "    .addGrid(model.regParam,[0.01, 0.1]) \\\n",
    "    .addGrid(model.elasticNetParam,[0.0, 0.5]) \\\n",
    "    .addGrid(model.aggregationDepth,[2, 5]) \\\n",
    "    .build()\n",
    "# param_grid = ParamGridBuilder() \\\n",
    "#     .addGrid(model.aggregationDepth,[2, 5]) \\\n",
    "#     .build()\n",
    "m = model_fitting(train, model, param_grid, 'LogisticRegression.model')\n",
    "# Model metrics\n",
    "display(get_formated_metrics(m, test))\n",
    "# Features effect\n",
    "draw_features_contribution(m, x_labels=features_labels)\n",
    "\n"
   ]
  },
  {
   "cell_type": "markdown",
   "metadata": {},
   "source": [
    "The Decision Tree Classifier model"
   ]
  },
  {
   "cell_type": "code",
   "execution_count": 75,
   "metadata": {},
   "outputs": [
    {
     "name": "stdout",
     "output_type": "stream",
     "text": [
      "Fitting in progress... Done in 29.77 second(s)\n",
      "\n",
      "Saving the model as DecisionTreeClassifier.model... Done in 0.68 second(s)\n"
     ]
    }
   ],
   "source": [
    "# The Decision Tree Classifier model\n",
    "\n",
    "model = DecisionTreeClassifier()\n",
    "param_grid = ParamGridBuilder() \\\n",
    "    .addGrid(model.maxDepth,[3, 5, 10]) \\\n",
    "    .addGrid(model.impurity,['entropy', 'gini']) \\\n",
    "    .build()\n",
    "\n",
    "m = model_fitting(train, model, param_grid, 'DecisionTreeClassifier.model')\n"
   ]
  },
  {
   "cell_type": "code",
   "execution_count": 76,
   "metadata": {},
   "outputs": [],
   "source": [
    "# to load the model from saved location\n",
    "m = mlm.load('DecisionTreeClassifier.model')"
   ]
  },
  {
   "cell_type": "code",
   "execution_count": 77,
   "metadata": {},
   "outputs": [
    {
     "data": {
      "text/html": [
       "<div>\n",
       "<style scoped>\n",
       "    .dataframe tbody tr th:only-of-type {\n",
       "        vertical-align: middle;\n",
       "    }\n",
       "\n",
       "    .dataframe tbody tr th {\n",
       "        vertical-align: top;\n",
       "    }\n",
       "\n",
       "    .dataframe thead th {\n",
       "        text-align: right;\n",
       "    }\n",
       "</style>\n",
       "<table border=\"1\" class=\"dataframe\">\n",
       "  <thead>\n",
       "    <tr style=\"text-align: right;\">\n",
       "      <th></th>\n",
       "      <th>Train</th>\n",
       "      <th>Test</th>\n",
       "    </tr>\n",
       "  </thead>\n",
       "  <tbody>\n",
       "    <tr>\n",
       "      <th>Accuracy</th>\n",
       "      <td>0.898305</td>\n",
       "      <td>0.729167</td>\n",
       "    </tr>\n",
       "    <tr>\n",
       "      <th>Precision</th>\n",
       "      <td>0.862069</td>\n",
       "      <td>0.500000</td>\n",
       "    </tr>\n",
       "    <tr>\n",
       "      <th>Recall</th>\n",
       "      <td>0.641026</td>\n",
       "      <td>0.384615</td>\n",
       "    </tr>\n",
       "    <tr>\n",
       "      <th>F-Score</th>\n",
       "      <td>0.735294</td>\n",
       "      <td>0.434783</td>\n",
       "    </tr>\n",
       "  </tbody>\n",
       "</table>\n",
       "</div>"
      ],
      "text/plain": [
       "              Train      Test\n",
       "Accuracy   0.898305  0.729167\n",
       "Precision  0.862069  0.500000\n",
       "Recall     0.641026  0.384615\n",
       "F-Score    0.735294  0.434783"
      ]
     },
     "metadata": {},
     "output_type": "display_data"
    }
   ],
   "source": [
    "# Show metrics\n",
    "display(get_classifier_metrics(m, train, test))"
   ]
  },
  {
   "cell_type": "code",
   "execution_count": 78,
   "metadata": {},
   "outputs": [
    {
     "data": {
      "image/png": "[encoded data removed]",
      "text/plain": [
       "<matplotlib.figure.Figure at 0x7f8499950550>"
      ]
     },
     "metadata": {},
     "output_type": "display_data"
    }
   ],
   "source": [
    "draw_features_importance(m, features_labels, threshold=3)"
   ]
  },
  {
   "cell_type": "markdown",
   "metadata": {},
   "source": [
    "The Gradient-Boosted Trees (GBTs) model"
   ]
  },
  {
   "cell_type": "code",
   "execution_count": 79,
   "metadata": {},
   "outputs": [
    {
     "name": "stdout",
     "output_type": "stream",
     "text": [
      "Fitting in progress... Done in 5 minute(s) and 18.48 second(s)\n",
      "\n",
      "Saving the model as GradientBoostedTrees.model... Done in 1.16 second(s)\n"
     ]
    }
   ],
   "source": [
    "# The Gradient-Boosted Trees (GBTs) model\n",
    "\n",
    "model = GBTClassifier()\n",
    "param_grid = ParamGridBuilder() \\\n",
    "    .addGrid(model.maxDepth,[3, 5, 10]) \\\n",
    "    .addGrid(model.maxBins ,[10, 5]) \\\n",
    "    .addGrid(model.maxIter ,[20, 5]) \\\n",
    "    .build()\n",
    "\n",
    "m = model_fitting(train, model, param_grid, 'GradientBoostedTrees.model')"
   ]
  },
  {
   "cell_type": "code",
   "execution_count": 80,
   "metadata": {},
   "outputs": [],
   "source": [
    "# to load the model from saved location\n",
    "m = mlm.load('GradientBoostedTrees.model')"
   ]
  },
  {
   "cell_type": "code",
   "execution_count": 81,
   "metadata": {},
   "outputs": [
    {
     "data": {
      "text/html": [
       "<div>\n",
       "<style scoped>\n",
       "    .dataframe tbody tr th:only-of-type {\n",
       "        vertical-align: middle;\n",
       "    }\n",
       "\n",
       "    .dataframe tbody tr th {\n",
       "        vertical-align: top;\n",
       "    }\n",
       "\n",
       "    .dataframe thead th {\n",
       "        text-align: right;\n",
       "    }\n",
       "</style>\n",
       "<table border=\"1\" class=\"dataframe\">\n",
       "  <thead>\n",
       "    <tr style=\"text-align: right;\">\n",
       "      <th></th>\n",
       "      <th>Train</th>\n",
       "      <th>Test</th>\n",
       "    </tr>\n",
       "  </thead>\n",
       "  <tbody>\n",
       "    <tr>\n",
       "      <th>Accuracy</th>\n",
       "      <td>0.932203</td>\n",
       "      <td>0.729167</td>\n",
       "    </tr>\n",
       "    <tr>\n",
       "      <th>Precision</th>\n",
       "      <td>1.000000</td>\n",
       "      <td>0.500000</td>\n",
       "    </tr>\n",
       "    <tr>\n",
       "      <th>Recall</th>\n",
       "      <td>0.692308</td>\n",
       "      <td>0.384615</td>\n",
       "    </tr>\n",
       "    <tr>\n",
       "      <th>F-Score</th>\n",
       "      <td>0.818182</td>\n",
       "      <td>0.434783</td>\n",
       "    </tr>\n",
       "  </tbody>\n",
       "</table>\n",
       "</div>"
      ],
      "text/plain": [
       "              Train      Test\n",
       "Accuracy   0.932203  0.729167\n",
       "Precision  1.000000  0.500000\n",
       "Recall     0.692308  0.384615\n",
       "F-Score    0.818182  0.434783"
      ]
     },
     "metadata": {},
     "output_type": "display_data"
    }
   ],
   "source": [
    "# Show metrics\n",
    "display(get_classifier_metrics(m, train, test))"
   ]
  },
  {
   "cell_type": "code",
   "execution_count": 82,
   "metadata": {},
   "outputs": [
    {
     "data": {
      "image/png": "[encoded data removed]",
      "text/plain": [
       "<matplotlib.figure.Figure at 0x7f84999b6400>"
      ]
     },
     "metadata": {},
     "output_type": "display_data"
    }
   ],
   "source": [
    "draw_features_importance(m, features_labels, threshold=3)"
   ]
  },
  {
   "cell_type": "code",
   "execution_count": 83,
   "metadata": {},
   "outputs": [
    {
     "name": "stdout",
     "output_type": "stream",
     "text": [
      "Fitting in progress... Done in 2 minute(s) and 20.05 second(s)\n",
      "\n",
      "Saving the model as RandomForestClassifier.model... Done in 0.95 second(s)\n"
     ]
    }
   ],
   "source": [
    "# The Random Forest model\n",
    "\n",
    "model = RandomForestClassifier()\n",
    "param_grid = ParamGridBuilder() \\\n",
    "    .addGrid(model.maxDepth,[5, 10]) \\\n",
    "    .addGrid(model.impurity,['entropy', 'gini']) \\\n",
    "    .addGrid(model.maxBins ,[10, 5]) \\\n",
    "    .addGrid(model.numTrees ,[20, 10]) \\\n",
    "    .addGrid(model.featureSubsetStrategy ,['sqrt', 'onethird']) \\\n",
    "    .build()\n",
    "\n",
    "m = model_fitting(train, model, param_grid, 'RandomForestClassifier.model')"
   ]
  },
  {
   "cell_type": "code",
   "execution_count": 84,
   "metadata": {},
   "outputs": [],
   "source": [
    "# to load the model from saved location\n",
    "m = mlm.load('RandomForestClassifier.model')"
   ]
  },
  {
   "cell_type": "code",
   "execution_count": 85,
   "metadata": {},
   "outputs": [
    {
     "data": {
      "text/html": [
       "<div>\n",
       "<style scoped>\n",
       "    .dataframe tbody tr th:only-of-type {\n",
       "        vertical-align: middle;\n",
       "    }\n",
       "\n",
       "    .dataframe tbody tr th {\n",
       "        vertical-align: top;\n",
       "    }\n",
       "\n",
       "    .dataframe thead th {\n",
       "        text-align: right;\n",
       "    }\n",
       "</style>\n",
       "<table border=\"1\" class=\"dataframe\">\n",
       "  <thead>\n",
       "    <tr style=\"text-align: right;\">\n",
       "      <th></th>\n",
       "      <th>Train</th>\n",
       "      <th>Test</th>\n",
       "    </tr>\n",
       "  </thead>\n",
       "  <tbody>\n",
       "    <tr>\n",
       "      <th>Accuracy</th>\n",
       "      <td>0.915254</td>\n",
       "      <td>0.750000</td>\n",
       "    </tr>\n",
       "    <tr>\n",
       "      <th>Precision</th>\n",
       "      <td>0.961538</td>\n",
       "      <td>0.666667</td>\n",
       "    </tr>\n",
       "    <tr>\n",
       "      <th>Recall</th>\n",
       "      <td>0.641026</td>\n",
       "      <td>0.153846</td>\n",
       "    </tr>\n",
       "    <tr>\n",
       "      <th>F-Score</th>\n",
       "      <td>0.769231</td>\n",
       "      <td>0.250000</td>\n",
       "    </tr>\n",
       "  </tbody>\n",
       "</table>\n",
       "</div>"
      ],
      "text/plain": [
       "              Train      Test\n",
       "Accuracy   0.915254  0.750000\n",
       "Precision  0.961538  0.666667\n",
       "Recall     0.641026  0.153846\n",
       "F-Score    0.769231  0.250000"
      ]
     },
     "metadata": {},
     "output_type": "display_data"
    }
   ],
   "source": [
    "# Show metrics\n",
    "display(get_classifier_metrics(m, train, test))"
   ]
  },
  {
   "cell_type": "code",
   "execution_count": 86,
   "metadata": {},
   "outputs": [
    {
     "data": {
      "image/png": "[encoded data removed]",
      "text/plain": [
       "<matplotlib.figure.Figure at 0x7f849983c048>"
      ]
     },
     "metadata": {},
     "output_type": "display_data"
    }
   ],
   "source": [
    "draw_features_importance(m, features_labels, threshold=3)"
   ]
  },
  {
   "cell_type": "markdown",
   "metadata": {},
   "source": [
    "\n",
    "\n",
    "maxDepth=5, maxBins=32, minInstancesPerNode=1, minInfoGain=0.0, maxMemoryInMB=256, cacheNodeIds=False, checkpointInterval=10, impurity='gini', numTrees=20, featureSubsetStrategy='auto', seed=None, subsamplingRate=1.0"
   ]
  },
  {
   "cell_type": "markdown",
   "metadata": {},
   "source": [
    "## The NaiveBayes model\n",
    "\n",
    "class pyspark.ml.classification.NaiveBayes(featuresCol='features', labelCol='label', predictionCol='prediction', probabilityCol='probability', rawPredictionCol='rawPrediction', smoothing=1.0, modelType='multinomial', thresholds=None, weightCol=None)[source]¶\n"
   ]
  },
  {
   "cell_type": "code",
   "execution_count": 88,
   "metadata": {},
   "outputs": [],
   "source": [
    "# The NaiveBayes model\n",
    "\n",
    "# model = NaiveBayes()\n",
    "# param_grid = ParamGridBuilder() \\\n",
    "#     .addGrid(model.smoothing ,[0.5, 1.0, 1.7, 3.0]) \\\n",
    "#     .addGrid(model.modelType ,['multinomial', 'bernoulli']) \\\n",
    "#     .build()\n",
    "\n",
    "# m = model_fitting(train, model, param_grid, 'NaiveBayes.model')"
   ]
  },
  {
   "cell_type": "markdown",
   "metadata": {},
   "source": [
    "\n",
    "FAILED (not suitable due to data nature)\n",
    "\n",
    "Naive Bayes requires nonnegative feature values but the features vector contains negative values!\n"
   ]
  },
  {
   "cell_type": "code",
   "execution_count": null,
   "metadata": {},
   "outputs": [],
   "source": []
  },
  {
   "cell_type": "markdown",
   "metadata": {},
   "source": [
    "## Conclusion\n",
    "\n",
    "The machine learning modeling succeeded in predicting the customers' activity that will most probably end in unsubscribing. Despite the good results of all the models, the Decision Tree Classifier model appears to be the best here. However, the other models need to be re-adjusted using different settings to reduce the overfitting.\n",
    "\n",
    "### How to improve the current implementation?\n",
    "\n",
    "Despite the good results obtained from the current implementation, it is possible to improve the results by doing one or more of the following:\n",
    "\n",
    "   1. Working with more observations by increasing the dataset size (which is possible in our case by working with the 12GB full dataset)\n",
    "   2. Trying more parameters of the selected models.\n",
    "   3. Adding some more features that I believe essential, like the customer location (city/state). The customers of some states appear to have more ability to churn than others; this might be attributed to the nature of life there, some lifestyle profiles force people to be rapidly bored, and thus they like to change the services they use, and trying to try other services. On the other hand, peaceful environment make people settled with what they have and resist change.\n",
    "\n"
   ]
  },
  {
   "cell_type": "code",
   "execution_count": null,
   "metadata": {},
   "outputs": [],
   "source": []
  },
  {
   "cell_type": "markdown",
   "metadata": {},
   "source": [
    "# Final Steps\n",
    "Clean up your code, adding comments and renaming variables to make the code easier to read and maintain. Refer to the Spark Project Overview page and Data Scientist Capstone Project Rubric to make sure you are including all components of the capstone project and meet all expectations. Remember, this includes thorough documentation in a README file in a Github repository, as well as a web app or blog post."
   ]
  },
  {
   "cell_type": "code",
   "execution_count": null,
   "metadata": {},
   "outputs": [],
   "source": []
  }
 ],
 "metadata": {
  "kernelspec": {
   "display_name": "Python 3",
   "language": "python",
   "name": "python3"
  },
  "language_info": {
   "codemirror_mode": {
    "name": "ipython",
    "version": 3
   },
   "file_extension": ".py",
   "mimetype": "text/x-python",
   "name": "python",
   "nbconvert_exporter": "python",
   "pygments_lexer": "ipython3",
   "version": "3.6.3"
  }
 },
 "nbformat": 4,
 "nbformat_minor": 2
}
